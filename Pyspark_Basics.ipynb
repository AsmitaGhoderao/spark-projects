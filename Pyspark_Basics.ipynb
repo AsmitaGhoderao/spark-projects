{
  "nbformat": 4,
  "nbformat_minor": 0,
  "metadata": {
    "colab": {
      "provenance": [],
      "authorship_tag": "ABX9TyNXvLS39gmNS+IRQxRzCfwO",
      "include_colab_link": true
    },
    "kernelspec": {
      "name": "python3",
      "display_name": "Python 3"
    },
    "language_info": {
      "name": "python"
    }
  },
  "cells": [
    {
      "cell_type": "markdown",
      "metadata": {
        "id": "view-in-github",
        "colab_type": "text"
      },
      "source": [
        "<a href=\"https://colab.research.google.com/github/AsmitaGhoderao/spark-projects/blob/main/Pyspark_Basics.ipynb\" target=\"_parent\"><img src=\"https://colab.research.google.com/assets/colab-badge.svg\" alt=\"Open In Colab\"/></a>"
      ]
    },
    {
      "cell_type": "code",
      "execution_count": 2,
      "metadata": {
        "id": "0N0j-fEpnJ2q"
      },
      "outputs": [],
      "source": [
        "!apt-get install openjdk-8-jdk-headless -qq > /dev/null\n",
        "!wget -q http://archive.apache.org/dist/spark/spark-3.1.1/spark-3.1.1-bin-hadoop3.2.tgz\n",
        "!tar xf spark-3.1.1-bin-hadoop3.2.tgz\n",
        "!pip install -q findspark"
      ]
    },
    {
      "cell_type": "code",
      "source": [
        "import os\n",
        "os.environ[\"JAVA_HOME\"] = \"/usr/lib/jvm/java-8-openjdk-amd64\"\n",
        "os.environ[\"SPARK_HOME\"] = \"/content/spark-3.1.1-bin-hadoop3.2\""
      ],
      "metadata": {
        "id": "pqgcUPWOpd5x"
      },
      "execution_count": 3,
      "outputs": []
    },
    {
      "cell_type": "code",
      "source": [
        "!ls"
      ],
      "metadata": {
        "colab": {
          "base_uri": "https://localhost:8080/"
        },
        "id": "mJ_PVyTxptI0",
        "outputId": "8e8792b3-2ed4-4f02-c806-28ed938360af"
      },
      "execution_count": 4,
      "outputs": [
        {
          "output_type": "stream",
          "name": "stdout",
          "text": [
            "sample_data  spark-3.1.1-bin-hadoop3.2\tspark-3.1.1-bin-hadoop3.2.tgz\n"
          ]
        }
      ]
    },
    {
      "cell_type": "code",
      "source": [
        "import findspark\n",
        "findspark.init()\n",
        "from pyspark.sql import SparkSession\n",
        "spark = SparkSession.builder.master(\"local[*]\").getOrCreate()\n",
        "spark.conf.set(\"spark.sql.repl.eagerEval.enabled\", True) # Property used to format output tables better\n",
        "spark"
      ],
      "metadata": {
        "colab": {
          "base_uri": "https://localhost:8080/",
          "height": 222
        },
        "id": "_UnQbG3zp2NU",
        "outputId": "a05af8cc-7cee-47ac-c33b-bec82904c0ef"
      },
      "execution_count": 5,
      "outputs": [
        {
          "output_type": "execute_result",
          "data": {
            "text/plain": [
              "<pyspark.sql.session.SparkSession at 0x7f292df518a0>"
            ],
            "text/html": [
              "\n",
              "            <div>\n",
              "                <p><b>SparkSession - in-memory</b></p>\n",
              "                \n",
              "        <div>\n",
              "            <p><b>SparkContext</b></p>\n",
              "\n",
              "            <p><a href=\"http://22cdbff46cca:4040\">Spark UI</a></p>\n",
              "\n",
              "            <dl>\n",
              "              <dt>Version</dt>\n",
              "                <dd><code>v3.1.1</code></dd>\n",
              "              <dt>Master</dt>\n",
              "                <dd><code>local[*]</code></dd>\n",
              "              <dt>AppName</dt>\n",
              "                <dd><code>pyspark-shell</code></dd>\n",
              "            </dl>\n",
              "        </div>\n",
              "        \n",
              "            </div>\n",
              "        "
            ]
          },
          "metadata": {},
          "execution_count": 5
        }
      ]
    },
    {
      "cell_type": "code",
      "source": [
        "# Downloading and preprocessing Cars Data downloaded origianlly from https://perso.telecom-paristech.fr/eagan/class/igr204/datasets\n",
        "!wget https://jacobceles.github.io/knowledge_repo/colab_and_pyspark/cars.csv"
      ],
      "metadata": {
        "colab": {
          "base_uri": "https://localhost:8080/"
        },
        "id": "BmgEsFzmqK6t",
        "outputId": "c0250278-7843-46b8-9c37-6517e83e9371"
      },
      "execution_count": 6,
      "outputs": [
        {
          "output_type": "stream",
          "name": "stdout",
          "text": [
            "--2023-07-10 06:03:41--  https://jacobceles.github.io/knowledge_repo/colab_and_pyspark/cars.csv\n",
            "Resolving jacobceles.github.io (jacobceles.github.io)... 185.199.110.153, 185.199.109.153, 185.199.108.153, ...\n",
            "Connecting to jacobceles.github.io (jacobceles.github.io)|185.199.110.153|:443... connected.\n",
            "HTTP request sent, awaiting response... 301 Moved Permanently\n",
            "Location: https://jacobcelestine.com/knowledge_repo/colab_and_pyspark/cars.csv [following]\n",
            "--2023-07-10 06:03:41--  https://jacobcelestine.com/knowledge_repo/colab_and_pyspark/cars.csv\n",
            "Resolving jacobcelestine.com (jacobcelestine.com)... 185.199.108.153, 185.199.109.153, 185.199.110.153, ...\n",
            "Connecting to jacobcelestine.com (jacobcelestine.com)|185.199.108.153|:443... connected.\n",
            "HTTP request sent, awaiting response... 200 OK\n",
            "Length: 22608 (22K) [text/csv]\n",
            "Saving to: ‘cars.csv’\n",
            "\n",
            "\rcars.csv              0%[                    ]       0  --.-KB/s               \rcars.csv            100%[===================>]  22.08K  --.-KB/s    in 0.002s  \n",
            "\n",
            "2023-07-10 06:03:41 (13.2 MB/s) - ‘cars.csv’ saved [22608/22608]\n",
            "\n"
          ]
        }
      ]
    },
    {
      "cell_type": "code",
      "source": [
        "df = spark.read.csv('cars.csv', header = True, sep = \";\")\n",
        "df.show()"
      ],
      "metadata": {
        "colab": {
          "base_uri": "https://localhost:8080/"
        },
        "id": "4ZvwowCHFRJ7",
        "outputId": "06c5500d-f027-43a8-9126-82d5e83effd4"
      },
      "execution_count": 7,
      "outputs": [
        {
          "output_type": "stream",
          "name": "stdout",
          "text": [
            "+--------------------+----+---------+------------+----------+------+------------+-----+------+\n",
            "|                 Car| MPG|Cylinders|Displacement|Horsepower|Weight|Acceleration|Model|Origin|\n",
            "+--------------------+----+---------+------------+----------+------+------------+-----+------+\n",
            "|Chevrolet Chevell...|18.0|        8|       307.0|     130.0| 3504.|        12.0|   70|    US|\n",
            "|   Buick Skylark 320|15.0|        8|       350.0|     165.0| 3693.|        11.5|   70|    US|\n",
            "|  Plymouth Satellite|18.0|        8|       318.0|     150.0| 3436.|        11.0|   70|    US|\n",
            "|       AMC Rebel SST|16.0|        8|       304.0|     150.0| 3433.|        12.0|   70|    US|\n",
            "|         Ford Torino|17.0|        8|       302.0|     140.0| 3449.|        10.5|   70|    US|\n",
            "|    Ford Galaxie 500|15.0|        8|       429.0|     198.0| 4341.|        10.0|   70|    US|\n",
            "|    Chevrolet Impala|14.0|        8|       454.0|     220.0| 4354.|         9.0|   70|    US|\n",
            "|   Plymouth Fury iii|14.0|        8|       440.0|     215.0| 4312.|         8.5|   70|    US|\n",
            "|    Pontiac Catalina|14.0|        8|       455.0|     225.0| 4425.|        10.0|   70|    US|\n",
            "|  AMC Ambassador DPL|15.0|        8|       390.0|     190.0| 3850.|         8.5|   70|    US|\n",
            "|Citroen DS-21 Pallas|   0|        4|       133.0|     115.0| 3090.|        17.5|   70|Europe|\n",
            "|Chevrolet Chevell...|   0|        8|       350.0|     165.0| 4142.|        11.5|   70|    US|\n",
            "|    Ford Torino (sw)|   0|        8|       351.0|     153.0| 4034.|        11.0|   70|    US|\n",
            "|Plymouth Satellit...|   0|        8|       383.0|     175.0| 4166.|        10.5|   70|    US|\n",
            "|  AMC Rebel SST (sw)|   0|        8|       360.0|     175.0| 3850.|        11.0|   70|    US|\n",
            "| Dodge Challenger SE|15.0|        8|       383.0|     170.0| 3563.|        10.0|   70|    US|\n",
            "|  Plymouth 'Cuda 340|14.0|        8|       340.0|     160.0| 3609.|         8.0|   70|    US|\n",
            "|Ford Mustang Boss...|   0|        8|       302.0|     140.0| 3353.|         8.0|   70|    US|\n",
            "|Chevrolet Monte C...|15.0|        8|       400.0|     150.0| 3761.|         9.5|   70|    US|\n",
            "|Buick Estate Wago...|14.0|        8|       455.0|     225.0| 3086.|        10.0|   70|    US|\n",
            "+--------------------+----+---------+------------+----------+------+------------+-----+------+\n",
            "only showing top 20 rows\n",
            "\n"
          ]
        }
      ]
    },
    {
      "cell_type": "code",
      "source": [
        "df.dtypes"
      ],
      "metadata": {
        "colab": {
          "base_uri": "https://localhost:8080/"
        },
        "id": "eUMz0r16H6gH",
        "outputId": "42729b66-8000-4d86-b7a3-6a17b4887c5d"
      },
      "execution_count": 8,
      "outputs": [
        {
          "output_type": "execute_result",
          "data": {
            "text/plain": [
              "[('Car', 'string'),\n",
              " ('MPG', 'string'),\n",
              " ('Cylinders', 'string'),\n",
              " ('Displacement', 'string'),\n",
              " ('Horsepower', 'string'),\n",
              " ('Weight', 'string'),\n",
              " ('Acceleration', 'string'),\n",
              " ('Model', 'string'),\n",
              " ('Origin', 'string')]"
            ]
          },
          "metadata": {},
          "execution_count": 8
        }
      ]
    },
    {
      "cell_type": "code",
      "source": [
        "df.printSchema()"
      ],
      "metadata": {
        "colab": {
          "base_uri": "https://localhost:8080/"
        },
        "id": "5lr4szpDIXl8",
        "outputId": "66044a0b-1066-436b-8ebb-8bb2930570a4"
      },
      "execution_count": 9,
      "outputs": [
        {
          "output_type": "stream",
          "name": "stdout",
          "text": [
            "root\n",
            " |-- Car: string (nullable = true)\n",
            " |-- MPG: string (nullable = true)\n",
            " |-- Cylinders: string (nullable = true)\n",
            " |-- Displacement: string (nullable = true)\n",
            " |-- Horsepower: string (nullable = true)\n",
            " |-- Weight: string (nullable = true)\n",
            " |-- Acceleration: string (nullable = true)\n",
            " |-- Model: string (nullable = true)\n",
            " |-- Origin: string (nullable = true)\n",
            "\n"
          ]
        }
      ]
    },
    {
      "cell_type": "code",
      "source": [
        "## implicitly infer the schema while inputing data\n",
        "df = spark.read.csv('cars.csv', header = True, sep = \";\", inferSchema = True)\n",
        "df.printSchema()"
      ],
      "metadata": {
        "colab": {
          "base_uri": "https://localhost:8080/"
        },
        "id": "ucyYq1bYIbDi",
        "outputId": "d1c95ccb-aeb7-49f7-e2d8-a7c5c01bf2d4"
      },
      "execution_count": 10,
      "outputs": [
        {
          "output_type": "stream",
          "name": "stdout",
          "text": [
            "root\n",
            " |-- Car: string (nullable = true)\n",
            " |-- MPG: double (nullable = true)\n",
            " |-- Cylinders: integer (nullable = true)\n",
            " |-- Displacement: double (nullable = true)\n",
            " |-- Horsepower: double (nullable = true)\n",
            " |-- Weight: decimal(4,0) (nullable = true)\n",
            " |-- Acceleration: double (nullable = true)\n",
            " |-- Model: integer (nullable = true)\n",
            " |-- Origin: string (nullable = true)\n",
            "\n"
          ]
        }
      ]
    },
    {
      "cell_type": "code",
      "source": [
        "## explicitly defining schemas\n",
        "from pyspark.sql.types import *\n",
        "df.columns"
      ],
      "metadata": {
        "colab": {
          "base_uri": "https://localhost:8080/"
        },
        "id": "Hczqb6pwIybf",
        "outputId": "cc51c665-8673-4080-898e-39d1dc7d3040"
      },
      "execution_count": 11,
      "outputs": [
        {
          "output_type": "execute_result",
          "data": {
            "text/plain": [
              "['Car',\n",
              " 'MPG',\n",
              " 'Cylinders',\n",
              " 'Displacement',\n",
              " 'Horsepower',\n",
              " 'Weight',\n",
              " 'Acceleration',\n",
              " 'Model',\n",
              " 'Origin']"
            ]
          },
          "metadata": {},
          "execution_count": 11
        }
      ]
    },
    {
      "cell_type": "code",
      "source": [
        "# Creating a list of the schema in the format column_name, data_type\n",
        "labels = [\n",
        "     ('Car',StringType()),\n",
        "     ('MPG',DoubleType()),\n",
        "     ('Cylinders',IntegerType()),\n",
        "     ('Displacement',DoubleType()),\n",
        "     ('Horsepower',DoubleType()),\n",
        "     ('Weight',DoubleType()),\n",
        "     ('Acceleration',DoubleType()),\n",
        "     ('Model',IntegerType()),\n",
        "     ('Origin',StringType())\n",
        "]"
      ],
      "metadata": {
        "id": "nMyxMqDZJhJw"
      },
      "execution_count": 12,
      "outputs": []
    },
    {
      "cell_type": "code",
      "source": [
        "# Creating the schema that will be passed when reading the csv\n",
        "custom_schema = StructType([StructField (x[0], x[1], True) for x in labels])\n",
        "custom_schema"
      ],
      "metadata": {
        "colab": {
          "base_uri": "https://localhost:8080/"
        },
        "id": "AGHscztqJq4m",
        "outputId": "d737d5df-3258-407f-8fb4-bc80470ea993"
      },
      "execution_count": 13,
      "outputs": [
        {
          "output_type": "execute_result",
          "data": {
            "text/plain": [
              "StructType(List(StructField(Car,StringType,true),StructField(MPG,DoubleType,true),StructField(Cylinders,IntegerType,true),StructField(Displacement,DoubleType,true),StructField(Horsepower,DoubleType,true),StructField(Weight,DoubleType,true),StructField(Acceleration,DoubleType,true),StructField(Model,IntegerType,true),StructField(Origin,StringType,true)))"
            ]
          },
          "metadata": {},
          "execution_count": 13
        }
      ]
    },
    {
      "cell_type": "code",
      "source": [
        "df = spark.read.csv('cars.csv', header=True, sep=\";\", schema=custom_schema)\n",
        "df.printSchema()"
      ],
      "metadata": {
        "colab": {
          "base_uri": "https://localhost:8080/"
        },
        "id": "8QD-jt9DJzUb",
        "outputId": "4791e53a-8797-48e3-89ea-e5915c4c3711"
      },
      "execution_count": 14,
      "outputs": [
        {
          "output_type": "stream",
          "name": "stdout",
          "text": [
            "root\n",
            " |-- Car: string (nullable = true)\n",
            " |-- MPG: double (nullable = true)\n",
            " |-- Cylinders: integer (nullable = true)\n",
            " |-- Displacement: double (nullable = true)\n",
            " |-- Horsepower: double (nullable = true)\n",
            " |-- Weight: double (nullable = true)\n",
            " |-- Acceleration: double (nullable = true)\n",
            " |-- Model: integer (nullable = true)\n",
            " |-- Origin: string (nullable = true)\n",
            "\n"
          ]
        }
      ]
    },
    {
      "cell_type": "code",
      "source": [
        "df.select(df['car'],df['mpg'])"
      ],
      "metadata": {
        "colab": {
          "base_uri": "https://localhost:8080/",
          "height": 514
        },
        "id": "2dDoXpANJ7S_",
        "outputId": "02979a05-f434-4757-99ea-fa4117e82383"
      },
      "execution_count": 15,
      "outputs": [
        {
          "output_type": "execute_result",
          "data": {
            "text/plain": [
              "+--------------------+----+\n",
              "|                 car| mpg|\n",
              "+--------------------+----+\n",
              "|Chevrolet Chevell...|18.0|\n",
              "|   Buick Skylark 320|15.0|\n",
              "|  Plymouth Satellite|18.0|\n",
              "|       AMC Rebel SST|16.0|\n",
              "|         Ford Torino|17.0|\n",
              "|    Ford Galaxie 500|15.0|\n",
              "|    Chevrolet Impala|14.0|\n",
              "|   Plymouth Fury iii|14.0|\n",
              "|    Pontiac Catalina|14.0|\n",
              "|  AMC Ambassador DPL|15.0|\n",
              "|Citroen DS-21 Pallas| 0.0|\n",
              "|Chevrolet Chevell...| 0.0|\n",
              "|    Ford Torino (sw)| 0.0|\n",
              "|Plymouth Satellit...| 0.0|\n",
              "|  AMC Rebel SST (sw)| 0.0|\n",
              "| Dodge Challenger SE|15.0|\n",
              "|  Plymouth 'Cuda 340|14.0|\n",
              "|Ford Mustang Boss...| 0.0|\n",
              "|Chevrolet Monte C...|15.0|\n",
              "|Buick Estate Wago...|14.0|\n",
              "+--------------------+----+\n",
              "only showing top 20 rows"
            ],
            "text/html": [
              "<table border='1'>\n",
              "<tr><th>car</th><th>mpg</th></tr>\n",
              "<tr><td>Chevrolet Chevell...</td><td>18.0</td></tr>\n",
              "<tr><td>Buick Skylark 320</td><td>15.0</td></tr>\n",
              "<tr><td>Plymouth Satellite</td><td>18.0</td></tr>\n",
              "<tr><td>AMC Rebel SST</td><td>16.0</td></tr>\n",
              "<tr><td>Ford Torino</td><td>17.0</td></tr>\n",
              "<tr><td>Ford Galaxie 500</td><td>15.0</td></tr>\n",
              "<tr><td>Chevrolet Impala</td><td>14.0</td></tr>\n",
              "<tr><td>Plymouth Fury iii</td><td>14.0</td></tr>\n",
              "<tr><td>Pontiac Catalina</td><td>14.0</td></tr>\n",
              "<tr><td>AMC Ambassador DPL</td><td>15.0</td></tr>\n",
              "<tr><td>Citroen DS-21 Pallas</td><td>0.0</td></tr>\n",
              "<tr><td>Chevrolet Chevell...</td><td>0.0</td></tr>\n",
              "<tr><td>Ford Torino (sw)</td><td>0.0</td></tr>\n",
              "<tr><td>Plymouth Satellit...</td><td>0.0</td></tr>\n",
              "<tr><td>AMC Rebel SST (sw)</td><td>0.0</td></tr>\n",
              "<tr><td>Dodge Challenger SE</td><td>15.0</td></tr>\n",
              "<tr><td>Plymouth &#x27;Cuda 340</td><td>14.0</td></tr>\n",
              "<tr><td>Ford Mustang Boss...</td><td>0.0</td></tr>\n",
              "<tr><td>Chevrolet Monte C...</td><td>15.0</td></tr>\n",
              "<tr><td>Buick Estate Wago...</td><td>14.0</td></tr>\n",
              "</table>\n",
              "only showing top 20 rows\n"
            ]
          },
          "metadata": {},
          "execution_count": 15
        }
      ]
    },
    {
      "cell_type": "code",
      "source": [
        "# Column name is case insensitive in this usage\n",
        "from pyspark.sql.functions import col\n",
        "df.select(col('car'),col('cylinders')).show(truncate=False)"
      ],
      "metadata": {
        "colab": {
          "base_uri": "https://localhost:8080/"
        },
        "id": "h5nUs8aWK3FO",
        "outputId": "798b821f-e2d3-47cd-c1af-fdd0318fdf51"
      },
      "execution_count": 16,
      "outputs": [
        {
          "output_type": "stream",
          "name": "stdout",
          "text": [
            "+--------------------------------+---------+\n",
            "|car                             |cylinders|\n",
            "+--------------------------------+---------+\n",
            "|Chevrolet Chevelle Malibu       |8        |\n",
            "|Buick Skylark 320               |8        |\n",
            "|Plymouth Satellite              |8        |\n",
            "|AMC Rebel SST                   |8        |\n",
            "|Ford Torino                     |8        |\n",
            "|Ford Galaxie 500                |8        |\n",
            "|Chevrolet Impala                |8        |\n",
            "|Plymouth Fury iii               |8        |\n",
            "|Pontiac Catalina                |8        |\n",
            "|AMC Ambassador DPL              |8        |\n",
            "|Citroen DS-21 Pallas            |4        |\n",
            "|Chevrolet Chevelle Concours (sw)|8        |\n",
            "|Ford Torino (sw)                |8        |\n",
            "|Plymouth Satellite (sw)         |8        |\n",
            "|AMC Rebel SST (sw)              |8        |\n",
            "|Dodge Challenger SE             |8        |\n",
            "|Plymouth 'Cuda 340              |8        |\n",
            "|Ford Mustang Boss 302           |8        |\n",
            "|Chevrolet Monte Carlo           |8        |\n",
            "|Buick Estate Wagon (sw)         |8        |\n",
            "+--------------------------------+---------+\n",
            "only showing top 20 rows\n",
            "\n"
          ]
        }
      ]
    },
    {
      "cell_type": "code",
      "source": [
        "## Adding a NEW COLUMN to df\n",
        "# Column name is case insensitive in this usage\n",
        "from pyspark.sql.functions import lit\n",
        "df = df.withColumn(\"new_col\", lit(100))\n",
        "df.show()\n",
        "\n",
        "# lit means literal. It populates the row with the literal value given.\n",
        "# When adding static data / constant values, it is a good practice to use it."
      ],
      "metadata": {
        "colab": {
          "base_uri": "https://localhost:8080/"
        },
        "id": "KLDRwTLQLApg",
        "outputId": "0d44ceeb-174b-4fa5-b0ec-f358dced2ea1"
      },
      "execution_count": 17,
      "outputs": [
        {
          "output_type": "stream",
          "name": "stdout",
          "text": [
            "+--------------------+----+---------+------------+----------+------+------------+-----+------+-------+\n",
            "|                 Car| MPG|Cylinders|Displacement|Horsepower|Weight|Acceleration|Model|Origin|new_col|\n",
            "+--------------------+----+---------+------------+----------+------+------------+-----+------+-------+\n",
            "|Chevrolet Chevell...|18.0|        8|       307.0|     130.0|3504.0|        12.0|   70|    US|    100|\n",
            "|   Buick Skylark 320|15.0|        8|       350.0|     165.0|3693.0|        11.5|   70|    US|    100|\n",
            "|  Plymouth Satellite|18.0|        8|       318.0|     150.0|3436.0|        11.0|   70|    US|    100|\n",
            "|       AMC Rebel SST|16.0|        8|       304.0|     150.0|3433.0|        12.0|   70|    US|    100|\n",
            "|         Ford Torino|17.0|        8|       302.0|     140.0|3449.0|        10.5|   70|    US|    100|\n",
            "|    Ford Galaxie 500|15.0|        8|       429.0|     198.0|4341.0|        10.0|   70|    US|    100|\n",
            "|    Chevrolet Impala|14.0|        8|       454.0|     220.0|4354.0|         9.0|   70|    US|    100|\n",
            "|   Plymouth Fury iii|14.0|        8|       440.0|     215.0|4312.0|         8.5|   70|    US|    100|\n",
            "|    Pontiac Catalina|14.0|        8|       455.0|     225.0|4425.0|        10.0|   70|    US|    100|\n",
            "|  AMC Ambassador DPL|15.0|        8|       390.0|     190.0|3850.0|         8.5|   70|    US|    100|\n",
            "|Citroen DS-21 Pallas| 0.0|        4|       133.0|     115.0|3090.0|        17.5|   70|Europe|    100|\n",
            "|Chevrolet Chevell...| 0.0|        8|       350.0|     165.0|4142.0|        11.5|   70|    US|    100|\n",
            "|    Ford Torino (sw)| 0.0|        8|       351.0|     153.0|4034.0|        11.0|   70|    US|    100|\n",
            "|Plymouth Satellit...| 0.0|        8|       383.0|     175.0|4166.0|        10.5|   70|    US|    100|\n",
            "|  AMC Rebel SST (sw)| 0.0|        8|       360.0|     175.0|3850.0|        11.0|   70|    US|    100|\n",
            "| Dodge Challenger SE|15.0|        8|       383.0|     170.0|3563.0|        10.0|   70|    US|    100|\n",
            "|  Plymouth 'Cuda 340|14.0|        8|       340.0|     160.0|3609.0|         8.0|   70|    US|    100|\n",
            "|Ford Mustang Boss...| 0.0|        8|       302.0|     140.0|3353.0|         8.0|   70|    US|    100|\n",
            "|Chevrolet Monte C...|15.0|        8|       400.0|     150.0|3761.0|         9.5|   70|    US|    100|\n",
            "|Buick Estate Wago...|14.0|        8|       455.0|     225.0|3086.0|        10.0|   70|    US|    100|\n",
            "+--------------------+----+---------+------------+----------+------+------------+-----+------+-------+\n",
            "only showing top 20 rows\n",
            "\n"
          ]
        }
      ]
    },
    {
      "cell_type": "code",
      "source": [
        "df = df.withColumn(\"new_col\", lit(100)) .withColumn(\"new_col1\",lit(200))\n",
        "df.show()"
      ],
      "metadata": {
        "colab": {
          "base_uri": "https://localhost:8080/"
        },
        "id": "ePJq2EGQLcd-",
        "outputId": "774c01b6-903c-48cc-af64-6862875dcd19"
      },
      "execution_count": 18,
      "outputs": [
        {
          "output_type": "stream",
          "name": "stdout",
          "text": [
            "+--------------------+----+---------+------------+----------+------+------------+-----+------+-------+--------+\n",
            "|                 Car| MPG|Cylinders|Displacement|Horsepower|Weight|Acceleration|Model|Origin|new_col|new_col1|\n",
            "+--------------------+----+---------+------------+----------+------+------------+-----+------+-------+--------+\n",
            "|Chevrolet Chevell...|18.0|        8|       307.0|     130.0|3504.0|        12.0|   70|    US|    100|     200|\n",
            "|   Buick Skylark 320|15.0|        8|       350.0|     165.0|3693.0|        11.5|   70|    US|    100|     200|\n",
            "|  Plymouth Satellite|18.0|        8|       318.0|     150.0|3436.0|        11.0|   70|    US|    100|     200|\n",
            "|       AMC Rebel SST|16.0|        8|       304.0|     150.0|3433.0|        12.0|   70|    US|    100|     200|\n",
            "|         Ford Torino|17.0|        8|       302.0|     140.0|3449.0|        10.5|   70|    US|    100|     200|\n",
            "|    Ford Galaxie 500|15.0|        8|       429.0|     198.0|4341.0|        10.0|   70|    US|    100|     200|\n",
            "|    Chevrolet Impala|14.0|        8|       454.0|     220.0|4354.0|         9.0|   70|    US|    100|     200|\n",
            "|   Plymouth Fury iii|14.0|        8|       440.0|     215.0|4312.0|         8.5|   70|    US|    100|     200|\n",
            "|    Pontiac Catalina|14.0|        8|       455.0|     225.0|4425.0|        10.0|   70|    US|    100|     200|\n",
            "|  AMC Ambassador DPL|15.0|        8|       390.0|     190.0|3850.0|         8.5|   70|    US|    100|     200|\n",
            "|Citroen DS-21 Pallas| 0.0|        4|       133.0|     115.0|3090.0|        17.5|   70|Europe|    100|     200|\n",
            "|Chevrolet Chevell...| 0.0|        8|       350.0|     165.0|4142.0|        11.5|   70|    US|    100|     200|\n",
            "|    Ford Torino (sw)| 0.0|        8|       351.0|     153.0|4034.0|        11.0|   70|    US|    100|     200|\n",
            "|Plymouth Satellit...| 0.0|        8|       383.0|     175.0|4166.0|        10.5|   70|    US|    100|     200|\n",
            "|  AMC Rebel SST (sw)| 0.0|        8|       360.0|     175.0|3850.0|        11.0|   70|    US|    100|     200|\n",
            "| Dodge Challenger SE|15.0|        8|       383.0|     170.0|3563.0|        10.0|   70|    US|    100|     200|\n",
            "|  Plymouth 'Cuda 340|14.0|        8|       340.0|     160.0|3609.0|         8.0|   70|    US|    100|     200|\n",
            "|Ford Mustang Boss...| 0.0|        8|       302.0|     140.0|3353.0|         8.0|   70|    US|    100|     200|\n",
            "|Chevrolet Monte C...|15.0|        8|       400.0|     150.0|3761.0|         9.5|   70|    US|    100|     200|\n",
            "|Buick Estate Wago...|14.0|        8|       455.0|     225.0|3086.0|        10.0|   70|    US|    100|     200|\n",
            "+--------------------+----+---------+------------+----------+------+------------+-----+------+-------+--------+\n",
            "only showing top 20 rows\n",
            "\n"
          ]
        }
      ]
    },
    {
      "cell_type": "code",
      "source": [
        "from pyspark.sql.functions import concat\n",
        "df = df.withColumn(\"new_col3\", concat(col(\"origin\"), lit(\"-\"), col(\"model\")))\n",
        "df.show()"
      ],
      "metadata": {
        "colab": {
          "base_uri": "https://localhost:8080/"
        },
        "id": "BZ5BbJX5Lw_p",
        "outputId": "1a8a2fc9-a1b3-4c90-e877-6df522a0d48c"
      },
      "execution_count": 19,
      "outputs": [
        {
          "output_type": "stream",
          "name": "stdout",
          "text": [
            "+--------------------+----+---------+------------+----------+------+------------+-----+------+-------+--------+---------+\n",
            "|                 Car| MPG|Cylinders|Displacement|Horsepower|Weight|Acceleration|Model|Origin|new_col|new_col1| new_col3|\n",
            "+--------------------+----+---------+------------+----------+------+------------+-----+------+-------+--------+---------+\n",
            "|Chevrolet Chevell...|18.0|        8|       307.0|     130.0|3504.0|        12.0|   70|    US|    100|     200|    US-70|\n",
            "|   Buick Skylark 320|15.0|        8|       350.0|     165.0|3693.0|        11.5|   70|    US|    100|     200|    US-70|\n",
            "|  Plymouth Satellite|18.0|        8|       318.0|     150.0|3436.0|        11.0|   70|    US|    100|     200|    US-70|\n",
            "|       AMC Rebel SST|16.0|        8|       304.0|     150.0|3433.0|        12.0|   70|    US|    100|     200|    US-70|\n",
            "|         Ford Torino|17.0|        8|       302.0|     140.0|3449.0|        10.5|   70|    US|    100|     200|    US-70|\n",
            "|    Ford Galaxie 500|15.0|        8|       429.0|     198.0|4341.0|        10.0|   70|    US|    100|     200|    US-70|\n",
            "|    Chevrolet Impala|14.0|        8|       454.0|     220.0|4354.0|         9.0|   70|    US|    100|     200|    US-70|\n",
            "|   Plymouth Fury iii|14.0|        8|       440.0|     215.0|4312.0|         8.5|   70|    US|    100|     200|    US-70|\n",
            "|    Pontiac Catalina|14.0|        8|       455.0|     225.0|4425.0|        10.0|   70|    US|    100|     200|    US-70|\n",
            "|  AMC Ambassador DPL|15.0|        8|       390.0|     190.0|3850.0|         8.5|   70|    US|    100|     200|    US-70|\n",
            "|Citroen DS-21 Pallas| 0.0|        4|       133.0|     115.0|3090.0|        17.5|   70|Europe|    100|     200|Europe-70|\n",
            "|Chevrolet Chevell...| 0.0|        8|       350.0|     165.0|4142.0|        11.5|   70|    US|    100|     200|    US-70|\n",
            "|    Ford Torino (sw)| 0.0|        8|       351.0|     153.0|4034.0|        11.0|   70|    US|    100|     200|    US-70|\n",
            "|Plymouth Satellit...| 0.0|        8|       383.0|     175.0|4166.0|        10.5|   70|    US|    100|     200|    US-70|\n",
            "|  AMC Rebel SST (sw)| 0.0|        8|       360.0|     175.0|3850.0|        11.0|   70|    US|    100|     200|    US-70|\n",
            "| Dodge Challenger SE|15.0|        8|       383.0|     170.0|3563.0|        10.0|   70|    US|    100|     200|    US-70|\n",
            "|  Plymouth 'Cuda 340|14.0|        8|       340.0|     160.0|3609.0|         8.0|   70|    US|    100|     200|    US-70|\n",
            "|Ford Mustang Boss...| 0.0|        8|       302.0|     140.0|3353.0|         8.0|   70|    US|    100|     200|    US-70|\n",
            "|Chevrolet Monte C...|15.0|        8|       400.0|     150.0|3761.0|         9.5|   70|    US|    100|     200|    US-70|\n",
            "|Buick Estate Wago...|14.0|        8|       455.0|     225.0|3086.0|        10.0|   70|    US|    100|     200|    US-70|\n",
            "+--------------------+----+---------+------------+----------+------+------------+-----+------+-------+--------+---------+\n",
            "only showing top 20 rows\n",
            "\n"
          ]
        }
      ]
    },
    {
      "cell_type": "code",
      "source": [
        "df = df.withColumnRenamed(\"new_col\", \"qty\")\n",
        "df.show(5)"
      ],
      "metadata": {
        "colab": {
          "base_uri": "https://localhost:8080/"
        },
        "id": "ucppLNfeMWZJ",
        "outputId": "45de1d03-8647-45e7-f8fe-bd8975bca9d8"
      },
      "execution_count": 20,
      "outputs": [
        {
          "output_type": "stream",
          "name": "stdout",
          "text": [
            "+--------------------+----+---------+------------+----------+------+------------+-----+------+---+--------+--------+\n",
            "|                 Car| MPG|Cylinders|Displacement|Horsepower|Weight|Acceleration|Model|Origin|qty|new_col1|new_col3|\n",
            "+--------------------+----+---------+------------+----------+------+------------+-----+------+---+--------+--------+\n",
            "|Chevrolet Chevell...|18.0|        8|       307.0|     130.0|3504.0|        12.0|   70|    US|100|     200|   US-70|\n",
            "|   Buick Skylark 320|15.0|        8|       350.0|     165.0|3693.0|        11.5|   70|    US|100|     200|   US-70|\n",
            "|  Plymouth Satellite|18.0|        8|       318.0|     150.0|3436.0|        11.0|   70|    US|100|     200|   US-70|\n",
            "|       AMC Rebel SST|16.0|        8|       304.0|     150.0|3433.0|        12.0|   70|    US|100|     200|   US-70|\n",
            "|         Ford Torino|17.0|        8|       302.0|     140.0|3449.0|        10.5|   70|    US|100|     200|   US-70|\n",
            "+--------------------+----+---------+------------+----------+------+------------+-----+------+---+--------+--------+\n",
            "only showing top 5 rows\n",
            "\n"
          ]
        }
      ]
    },
    {
      "cell_type": "code",
      "source": [
        "df.groupBy('origin').count().show()"
      ],
      "metadata": {
        "colab": {
          "base_uri": "https://localhost:8080/"
        },
        "id": "OB7JXiinNunq",
        "outputId": "613de90a-ff0f-401c-f1ed-b4730fe29a07"
      },
      "execution_count": 21,
      "outputs": [
        {
          "output_type": "stream",
          "name": "stdout",
          "text": [
            "+------+-----+\n",
            "|origin|count|\n",
            "+------+-----+\n",
            "|Europe|   73|\n",
            "|    US|  254|\n",
            "| Japan|   79|\n",
            "+------+-----+\n",
            "\n"
          ]
        }
      ]
    },
    {
      "cell_type": "code",
      "source": [
        "df.groupBy('origin','model').count().show()"
      ],
      "metadata": {
        "colab": {
          "base_uri": "https://localhost:8080/"
        },
        "id": "R0at_aTfN9zI",
        "outputId": "2c508083-b454-4108-abdd-162c1dd63748"
      },
      "execution_count": 22,
      "outputs": [
        {
          "output_type": "stream",
          "name": "stdout",
          "text": [
            "+------+-----+-----+\n",
            "|origin|model|count|\n",
            "+------+-----+-----+\n",
            "|Europe|   71|    5|\n",
            "|Europe|   80|    9|\n",
            "|Europe|   79|    4|\n",
            "| Japan|   75|    4|\n",
            "|    US|   72|   18|\n",
            "|    US|   80|    7|\n",
            "|Europe|   74|    6|\n",
            "| Japan|   79|    2|\n",
            "|Europe|   76|    8|\n",
            "|    US|   75|   20|\n",
            "| Japan|   77|    6|\n",
            "|    US|   82|   20|\n",
            "| Japan|   80|   13|\n",
            "| Japan|   78|    8|\n",
            "|    US|   78|   22|\n",
            "|Europe|   75|    6|\n",
            "|    US|   71|   20|\n",
            "|    US|   77|   18|\n",
            "| Japan|   70|    2|\n",
            "| Japan|   71|    4|\n",
            "+------+-----+-----+\n",
            "only showing top 20 rows\n",
            "\n"
          ]
        }
      ]
    },
    {
      "cell_type": "code",
      "source": [
        "df = df.drop('qty') .drop('new_col1') .drop('new_col3')"
      ],
      "metadata": {
        "id": "cVhDkI-lOFpL"
      },
      "execution_count": 23,
      "outputs": []
    },
    {
      "cell_type": "code",
      "source": [
        "df.show(5)"
      ],
      "metadata": {
        "id": "GIwdz07-Obaa",
        "outputId": "4c217592-2a6c-46b5-a9e9-01e24c08bec0",
        "colab": {
          "base_uri": "https://localhost:8080/"
        }
      },
      "execution_count": 24,
      "outputs": [
        {
          "output_type": "stream",
          "name": "stdout",
          "text": [
            "+--------------------+----+---------+------------+----------+------+------------+-----+------+\n",
            "|                 Car| MPG|Cylinders|Displacement|Horsepower|Weight|Acceleration|Model|Origin|\n",
            "+--------------------+----+---------+------------+----------+------+------------+-----+------+\n",
            "|Chevrolet Chevell...|18.0|        8|       307.0|     130.0|3504.0|        12.0|   70|    US|\n",
            "|   Buick Skylark 320|15.0|        8|       350.0|     165.0|3693.0|        11.5|   70|    US|\n",
            "|  Plymouth Satellite|18.0|        8|       318.0|     150.0|3436.0|        11.0|   70|    US|\n",
            "|       AMC Rebel SST|16.0|        8|       304.0|     150.0|3433.0|        12.0|   70|    US|\n",
            "|         Ford Torino|17.0|        8|       302.0|     140.0|3449.0|        10.5|   70|    US|\n",
            "+--------------------+----+---------+------------+----------+------+------------+-----+------+\n",
            "only showing top 5 rows\n",
            "\n"
          ]
        }
      ]
    },
    {
      "cell_type": "code",
      "source": [
        "df.count()"
      ],
      "metadata": {
        "id": "Fl0yheFnOdic",
        "colab": {
          "base_uri": "https://localhost:8080/"
        },
        "outputId": "611b7a26-0d6c-4fe8-d67c-0132eee20640"
      },
      "execution_count": 25,
      "outputs": [
        {
          "output_type": "execute_result",
          "data": {
            "text/plain": [
              "406"
            ]
          },
          "metadata": {},
          "execution_count": 25
        }
      ]
    },
    {
      "cell_type": "code",
      "source": [
        "df.filter(col('origin')=='Europe').count()"
      ],
      "metadata": {
        "colab": {
          "base_uri": "https://localhost:8080/"
        },
        "id": "U-sT2rYvbq0Y",
        "outputId": "a8a0e783-81ab-4c9d-b95b-1a1a812ee690"
      },
      "execution_count": 26,
      "outputs": [
        {
          "output_type": "execute_result",
          "data": {
            "text/plain": [
              "73"
            ]
          },
          "metadata": {},
          "execution_count": 26
        }
      ]
    },
    {
      "cell_type": "code",
      "source": [
        "df.filter((col('origin')=='Europe') & (col('model')=='70')).count()"
      ],
      "metadata": {
        "colab": {
          "base_uri": "https://localhost:8080/"
        },
        "id": "9u2qkRACb3f5",
        "outputId": "2c750dbc-bdfe-46b2-b212-c8b93957b412"
      },
      "execution_count": 28,
      "outputs": [
        {
          "output_type": "execute_result",
          "data": {
            "text/plain": [
              "6"
            ]
          },
          "metadata": {},
          "execution_count": 28
        }
      ]
    },
    {
      "cell_type": "code",
      "source": [
        "df.select('origin').distinct().show()"
      ],
      "metadata": {
        "colab": {
          "base_uri": "https://localhost:8080/"
        },
        "id": "0-cEVjl4cGTx",
        "outputId": "4db05305-0214-4dad-b97b-d4ecb6ef1859"
      },
      "execution_count": 29,
      "outputs": [
        {
          "output_type": "stream",
          "name": "stdout",
          "text": [
            "+------+\n",
            "|origin|\n",
            "+------+\n",
            "|Europe|\n",
            "|    US|\n",
            "| Japan|\n",
            "+------+\n",
            "\n"
          ]
        }
      ]
    },
    {
      "cell_type": "code",
      "source": [
        "df.orderBy('horsepower',ascending = False)"
      ],
      "metadata": {
        "colab": {
          "base_uri": "https://localhost:8080/",
          "height": 514
        },
        "id": "wbrsrtBAcX2R",
        "outputId": "a1adecd0-2b4f-4a99-9e8c-1e47444b10c4"
      },
      "execution_count": 30,
      "outputs": [
        {
          "output_type": "execute_result",
          "data": {
            "text/plain": [
              "+--------------------+----+---------+------------+----------+------+------------+-----+------+\n",
              "|                 Car| MPG|Cylinders|Displacement|Horsepower|Weight|Acceleration|Model|Origin|\n",
              "+--------------------+----+---------+------------+----------+------+------------+-----+------+\n",
              "|  Pontiac Grand Prix|16.0|        8|       400.0|     230.0|4278.0|         9.5|   73|    US|\n",
              "|Buick Estate Wago...|14.0|        8|       455.0|     225.0|3086.0|        10.0|   70|    US|\n",
              "|    Pontiac Catalina|14.0|        8|       455.0|     225.0|4425.0|        10.0|   70|    US|\n",
              "|Buick Electra 225...|12.0|        8|       455.0|     225.0|4951.0|        11.0|   73|    US|\n",
              "|    Chevrolet Impala|14.0|        8|       454.0|     220.0|4354.0|         9.0|   70|    US|\n",
              "|   Plymouth Fury iii|14.0|        8|       440.0|     215.0|4312.0|         8.5|   70|    US|\n",
              "|           Ford F250|10.0|        8|       360.0|     215.0|4615.0|        14.0|   70|    US|\n",
              "|Chrysler New York...|13.0|        8|       440.0|     215.0|4735.0|        11.0|   73|    US|\n",
              "|          Dodge D200|11.0|        8|       318.0|     210.0|4382.0|        13.5|   70|    US|\n",
              "|     Mercury Marquis|11.0|        8|       429.0|     208.0|4633.0|        11.0|   72|    US|\n",
              "|           Chevy C20|10.0|        8|       307.0|     200.0|4376.0|        15.0|   70|    US|\n",
              "|    Ford Galaxie 500|15.0|        8|       429.0|     198.0|4341.0|        10.0|   70|    US|\n",
              "|Mercury Marquis B...|12.0|        8|       429.0|     198.0|4952.0|        11.5|   73|    US|\n",
              "|            Hi 1200D| 9.0|        8|       304.0|     193.0|4732.0|        18.5|   70|    US|\n",
              "|  AMC Ambassador DPL|15.0|        8|       390.0|     190.0|3850.0|         8.5|   70|    US|\n",
              "|Chrysler Newport ...|13.0|        8|       400.0|     190.0|4422.0|        12.5|   72|    US|\n",
              "|    Chrysler Cordoba|15.5|        8|       400.0|     190.0|4325.0|        12.2|   77|    US|\n",
              "|   Dodge Monaco (sw)|12.0|        8|       383.0|     180.0|4955.0|        11.5|   71|    US|\n",
              "|Oldsmobile Vista ...|12.0|        8|       350.0|     180.0|4499.0|        12.5|   73|    US|\n",
              "|    Oldsmobile Omega|11.0|        8|       350.0|     180.0|3664.0|        11.0|   73|    US|\n",
              "+--------------------+----+---------+------------+----------+------+------------+-----+------+\n",
              "only showing top 20 rows"
            ],
            "text/html": [
              "<table border='1'>\n",
              "<tr><th>Car</th><th>MPG</th><th>Cylinders</th><th>Displacement</th><th>Horsepower</th><th>Weight</th><th>Acceleration</th><th>Model</th><th>Origin</th></tr>\n",
              "<tr><td>Pontiac Grand Prix</td><td>16.0</td><td>8</td><td>400.0</td><td>230.0</td><td>4278.0</td><td>9.5</td><td>73</td><td>US</td></tr>\n",
              "<tr><td>Buick Estate Wago...</td><td>14.0</td><td>8</td><td>455.0</td><td>225.0</td><td>3086.0</td><td>10.0</td><td>70</td><td>US</td></tr>\n",
              "<tr><td>Pontiac Catalina</td><td>14.0</td><td>8</td><td>455.0</td><td>225.0</td><td>4425.0</td><td>10.0</td><td>70</td><td>US</td></tr>\n",
              "<tr><td>Buick Electra 225...</td><td>12.0</td><td>8</td><td>455.0</td><td>225.0</td><td>4951.0</td><td>11.0</td><td>73</td><td>US</td></tr>\n",
              "<tr><td>Chevrolet Impala</td><td>14.0</td><td>8</td><td>454.0</td><td>220.0</td><td>4354.0</td><td>9.0</td><td>70</td><td>US</td></tr>\n",
              "<tr><td>Plymouth Fury iii</td><td>14.0</td><td>8</td><td>440.0</td><td>215.0</td><td>4312.0</td><td>8.5</td><td>70</td><td>US</td></tr>\n",
              "<tr><td>Ford F250</td><td>10.0</td><td>8</td><td>360.0</td><td>215.0</td><td>4615.0</td><td>14.0</td><td>70</td><td>US</td></tr>\n",
              "<tr><td>Chrysler New York...</td><td>13.0</td><td>8</td><td>440.0</td><td>215.0</td><td>4735.0</td><td>11.0</td><td>73</td><td>US</td></tr>\n",
              "<tr><td>Dodge D200</td><td>11.0</td><td>8</td><td>318.0</td><td>210.0</td><td>4382.0</td><td>13.5</td><td>70</td><td>US</td></tr>\n",
              "<tr><td>Mercury Marquis</td><td>11.0</td><td>8</td><td>429.0</td><td>208.0</td><td>4633.0</td><td>11.0</td><td>72</td><td>US</td></tr>\n",
              "<tr><td>Chevy C20</td><td>10.0</td><td>8</td><td>307.0</td><td>200.0</td><td>4376.0</td><td>15.0</td><td>70</td><td>US</td></tr>\n",
              "<tr><td>Ford Galaxie 500</td><td>15.0</td><td>8</td><td>429.0</td><td>198.0</td><td>4341.0</td><td>10.0</td><td>70</td><td>US</td></tr>\n",
              "<tr><td>Mercury Marquis B...</td><td>12.0</td><td>8</td><td>429.0</td><td>198.0</td><td>4952.0</td><td>11.5</td><td>73</td><td>US</td></tr>\n",
              "<tr><td>Hi 1200D</td><td>9.0</td><td>8</td><td>304.0</td><td>193.0</td><td>4732.0</td><td>18.5</td><td>70</td><td>US</td></tr>\n",
              "<tr><td>AMC Ambassador DPL</td><td>15.0</td><td>8</td><td>390.0</td><td>190.0</td><td>3850.0</td><td>8.5</td><td>70</td><td>US</td></tr>\n",
              "<tr><td>Chrysler Newport ...</td><td>13.0</td><td>8</td><td>400.0</td><td>190.0</td><td>4422.0</td><td>12.5</td><td>72</td><td>US</td></tr>\n",
              "<tr><td>Chrysler Cordoba</td><td>15.5</td><td>8</td><td>400.0</td><td>190.0</td><td>4325.0</td><td>12.2</td><td>77</td><td>US</td></tr>\n",
              "<tr><td>Dodge Monaco (sw)</td><td>12.0</td><td>8</td><td>383.0</td><td>180.0</td><td>4955.0</td><td>11.5</td><td>71</td><td>US</td></tr>\n",
              "<tr><td>Oldsmobile Vista ...</td><td>12.0</td><td>8</td><td>350.0</td><td>180.0</td><td>4499.0</td><td>12.5</td><td>73</td><td>US</td></tr>\n",
              "<tr><td>Oldsmobile Omega</td><td>11.0</td><td>8</td><td>350.0</td><td>180.0</td><td>3664.0</td><td>11.0</td><td>73</td><td>US</td></tr>\n",
              "</table>\n",
              "only showing top 20 rows\n"
            ]
          },
          "metadata": {},
          "execution_count": 30
        }
      ]
    },
    {
      "cell_type": "code",
      "source": [
        "## GROUP BY and ORDER BY Together\n",
        "\n",
        "df.groupBy('origin').count().orderBy('count',ascending = False).show(10)"
      ],
      "metadata": {
        "colab": {
          "base_uri": "https://localhost:8080/"
        },
        "id": "tcXT0YtBctH7",
        "outputId": "00350195-e3bf-4c57-8807-901e108008d7"
      },
      "execution_count": 31,
      "outputs": [
        {
          "output_type": "stream",
          "name": "stdout",
          "text": [
            "+------+-----+\n",
            "|origin|count|\n",
            "+------+-----+\n",
            "|    US|  254|\n",
            "| Japan|   79|\n",
            "|Europe|   73|\n",
            "+------+-----+\n",
            "\n"
          ]
        }
      ]
    },
    {
      "cell_type": "code",
      "source": [
        "\n",
        "# UNION OPERATION\n",
        "# union() - has duplicates, need to remove using dropduplicates function of dataframe\n",
        "# unionByName - used when the columns are not in order , also has duplicates\n",
        "\n",
        "europe_cars = df.filter((col('Origin')=='Europe') & (col('Cylinders')==5))\n",
        "japan_cars = df.filter((col('Origin')=='Japan') & (col('Cylinders')==3))\n",
        "print(\"EUROPE CARS: \"+str(europe_cars.count()))\n",
        "print(\"JAPAN CARS: \"+str(japan_cars.count()))\n",
        "print(\"AFTER UNION: \"+str(europe_cars.union(japan_cars).count()))"
      ],
      "metadata": {
        "colab": {
          "base_uri": "https://localhost:8080/"
        },
        "id": "slpJuD0NdV4N",
        "outputId": "2ec72cab-0f0a-4af3-ba8e-fc1bfb8bd165"
      },
      "execution_count": 33,
      "outputs": [
        {
          "output_type": "stream",
          "name": "stdout",
          "text": [
            "EUROPE CARS: 3\n",
            "JAPAN CARS: 4\n",
            "AFTER UNION: 7\n"
          ]
        }
      ]
    },
    {
      "cell_type": "code",
      "source": [
        "# Creating two dataframes with jumbled columns\n",
        "df1 = spark.createDataFrame([[1, 2, 3]], [\"col0\", \"col1\", \"col2\"])\n",
        "df2 = spark.createDataFrame([[4, 5, 6]], [\"col1\", \"col2\", \"col0\"])\n",
        "df1.unionByName(df2).show()"
      ],
      "metadata": {
        "colab": {
          "base_uri": "https://localhost:8080/"
        },
        "id": "eWX3glQtejx0",
        "outputId": "0c145ca0-2bbc-4606-aad4-85ff94eabbf5"
      },
      "execution_count": 34,
      "outputs": [
        {
          "output_type": "stream",
          "name": "stdout",
          "text": [
            "+----+----+----+\n",
            "|col0|col1|col2|\n",
            "+----+----+----+\n",
            "|   1|   2|   3|\n",
            "|   6|   4|   5|\n",
            "+----+----+----+\n",
            "\n"
          ]
        }
      ]
    },
    {
      "cell_type": "code",
      "source": [
        "## STRING FUNCTION\n",
        "\n",
        "from pyspark.sql.functions import col,lower, upper, substring\n",
        "# Prints out the details of a function\n",
        "help(substring)\n",
        "# alias is used to rename the column name in the output\n",
        "df.select(col('Car'),lower(col('Car')),upper(col('Car')),substring(col('Car'),1,4).alias(\"concatenated value\")).show(5, False)"
      ],
      "metadata": {
        "colab": {
          "base_uri": "https://localhost:8080/"
        },
        "id": "KjT6YZ3ces3m",
        "outputId": "80f34339-ac01-48ac-8855-614ebafc2b56"
      },
      "execution_count": 35,
      "outputs": [
        {
          "output_type": "stream",
          "name": "stdout",
          "text": [
            "Help on function substring in module pyspark.sql.functions:\n",
            "\n",
            "substring(str, pos, len)\n",
            "    Substring starts at `pos` and is of length `len` when str is String type or\n",
            "    returns the slice of byte array that starts at `pos` in byte and is of length `len`\n",
            "    when str is Binary type.\n",
            "    \n",
            "    .. versionadded:: 1.5.0\n",
            "    \n",
            "    Notes\n",
            "    -----\n",
            "    The position is not zero based, but 1 based index.\n",
            "    \n",
            "    Examples\n",
            "    --------\n",
            "    >>> df = spark.createDataFrame([('abcd',)], ['s',])\n",
            "    >>> df.select(substring(df.s, 1, 2).alias('s')).collect()\n",
            "    [Row(s='ab')]\n",
            "\n",
            "+-------------------------+-------------------------+-------------------------+------------------+\n",
            "|Car                      |lower(Car)               |upper(Car)               |concatenated value|\n",
            "+-------------------------+-------------------------+-------------------------+------------------+\n",
            "|Chevrolet Chevelle Malibu|chevrolet chevelle malibu|CHEVROLET CHEVELLE MALIBU|Chev              |\n",
            "|Buick Skylark 320        |buick skylark 320        |BUICK SKYLARK 320        |Buic              |\n",
            "|Plymouth Satellite       |plymouth satellite       |PLYMOUTH SATELLITE       |Plym              |\n",
            "|AMC Rebel SST            |amc rebel sst            |AMC REBEL SST            |AMC               |\n",
            "|Ford Torino              |ford torino              |FORD TORINO              |Ford              |\n",
            "+-------------------------+-------------------------+-------------------------+------------------+\n",
            "only showing top 5 rows\n",
            "\n"
          ]
        }
      ]
    },
    {
      "cell_type": "code",
      "source": [
        "## DATE FUNCTION\n",
        "from pyspark.sql.functions import to_date, to_timestamp, lit\n",
        "df = spark.createDataFrame([('2019-12-25 13:30:00',)], ['DOB'])\n",
        "df = df.select(to_date(col('DOB'),'yyyy-MM-dd HH:mm:ss'), to_timestamp(col('DOB'),'yyyy-MM-dd HH:mm:ss'))\n",
        "df.show()\n",
        "df.printSchema()"
      ],
      "metadata": {
        "colab": {
          "base_uri": "https://localhost:8080/"
        },
        "id": "Rq0gxoWNfQ3H",
        "outputId": "18bd011c-531c-448d-eef4-6a7a1591e669"
      },
      "execution_count": 36,
      "outputs": [
        {
          "output_type": "stream",
          "name": "stdout",
          "text": [
            "+---------------------------------+--------------------------------------+\n",
            "|to_date(DOB, yyyy-MM-dd HH:mm:ss)|to_timestamp(DOB, yyyy-MM-dd HH:mm:ss)|\n",
            "+---------------------------------+--------------------------------------+\n",
            "|                       2019-12-25|                   2019-12-25 13:30:00|\n",
            "+---------------------------------+--------------------------------------+\n",
            "\n",
            "root\n",
            " |-- to_date(DOB, yyyy-MM-dd HH:mm:ss): date (nullable = true)\n",
            " |-- to_timestamp(DOB, yyyy-MM-dd HH:mm:ss): timestamp (nullable = true)\n",
            "\n"
          ]
        }
      ]
    },
    {
      "cell_type": "code",
      "source": [],
      "metadata": {
        "id": "wo7VjvTEfrD8"
      },
      "execution_count": null,
      "outputs": []
    }
  ]
}