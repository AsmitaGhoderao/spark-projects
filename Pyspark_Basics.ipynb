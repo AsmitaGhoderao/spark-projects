{
  "nbformat": 4,
  "nbformat_minor": 0,
  "metadata": {
    "colab": {
      "provenance": [],
      "authorship_tag": "ABX9TyN3N+qcWtSvsuWWi1TFPnwd",
      "include_colab_link": true
    },
    "kernelspec": {
      "name": "python3",
      "display_name": "Python 3"
    },
    "language_info": {
      "name": "python"
    }
  },
  "cells": [
    {
      "cell_type": "markdown",
      "metadata": {
        "id": "view-in-github",
        "colab_type": "text"
      },
      "source": [
        "<a href=\"https://colab.research.google.com/github/AsmitaGhoderao/spark-projects/blob/main/Pyspark_Basics.ipynb\" target=\"_parent\"><img src=\"https://colab.research.google.com/assets/colab-badge.svg\" alt=\"Open In Colab\"/></a>"
      ]
    },
    {
      "cell_type": "code",
      "execution_count": 2,
      "metadata": {
        "id": "0N0j-fEpnJ2q"
      },
      "outputs": [],
      "source": [
        "!apt-get install openjdk-8-jdk-headless -qq > /dev/null\n",
        "!wget -q http://archive.apache.org/dist/spark/spark-3.1.1/spark-3.1.1-bin-hadoop3.2.tgz\n",
        "!tar xf spark-3.1.1-bin-hadoop3.2.tgz\n",
        "!pip install -q findspark"
      ]
    },
    {
      "cell_type": "code",
      "source": [
        "import os\n",
        "os.environ[\"JAVA_HOME\"] = \"/usr/lib/jvm/java-8-openjdk-amd64\"\n",
        "os.environ[\"SPARK_HOME\"] = \"/content/spark-3.1.1-bin-hadoop3.2\""
      ],
      "metadata": {
        "id": "pqgcUPWOpd5x"
      },
      "execution_count": 3,
      "outputs": []
    },
    {
      "cell_type": "code",
      "source": [
        "!ls"
      ],
      "metadata": {
        "colab": {
          "base_uri": "https://localhost:8080/"
        },
        "id": "mJ_PVyTxptI0",
        "outputId": "4c632023-d78d-48a3-cd12-ba67b4cd56f9"
      },
      "execution_count": 4,
      "outputs": [
        {
          "output_type": "stream",
          "name": "stdout",
          "text": [
            "sample_data  spark-3.1.1-bin-hadoop3.2\tspark-3.1.1-bin-hadoop3.2.tgz\n"
          ]
        }
      ]
    },
    {
      "cell_type": "code",
      "source": [
        "import findspark\n",
        "findspark.init()\n",
        "from pyspark.sql import SparkSession\n",
        "spark = SparkSession.builder.master(\"local[*]\").getOrCreate()\n",
        "spark.conf.set(\"spark.sql.repl.eagerEval.enabled\", True) # Property used to format output tables better\n",
        "spark"
      ],
      "metadata": {
        "colab": {
          "base_uri": "https://localhost:8080/",
          "height": 222
        },
        "id": "_UnQbG3zp2NU",
        "outputId": "27c21846-0e42-41d0-abae-8873d776f477"
      },
      "execution_count": 8,
      "outputs": [
        {
          "output_type": "execute_result",
          "data": {
            "text/plain": [
              "<pyspark.sql.session.SparkSession at 0x7ff241fe9f60>"
            ],
            "text/html": [
              "\n",
              "            <div>\n",
              "                <p><b>SparkSession - in-memory</b></p>\n",
              "                \n",
              "        <div>\n",
              "            <p><b>SparkContext</b></p>\n",
              "\n",
              "            <p><a href=\"http://6237e8e18a08:4040\">Spark UI</a></p>\n",
              "\n",
              "            <dl>\n",
              "              <dt>Version</dt>\n",
              "                <dd><code>v3.1.1</code></dd>\n",
              "              <dt>Master</dt>\n",
              "                <dd><code>local[*]</code></dd>\n",
              "              <dt>AppName</dt>\n",
              "                <dd><code>pyspark-shell</code></dd>\n",
              "            </dl>\n",
              "        </div>\n",
              "        \n",
              "            </div>\n",
              "        "
            ]
          },
          "metadata": {},
          "execution_count": 8
        }
      ]
    },
    {
      "cell_type": "code",
      "source": [
        "# Downloading and preprocessing Cars Data downloaded origianlly from https://perso.telecom-paristech.fr/eagan/class/igr204/datasets\n",
        "!wget https://jacobceles.github.io/knowledge_repo/colab_and_pyspark/cars.csv"
      ],
      "metadata": {
        "colab": {
          "base_uri": "https://localhost:8080/"
        },
        "id": "BmgEsFzmqK6t",
        "outputId": "73b67eda-0476-44b7-981e-2843e76dede5"
      },
      "execution_count": 9,
      "outputs": [
        {
          "output_type": "stream",
          "name": "stdout",
          "text": [
            "--2023-07-09 09:36:00--  https://jacobceles.github.io/knowledge_repo/colab_and_pyspark/cars.csv\n",
            "Resolving jacobceles.github.io (jacobceles.github.io)... 185.199.108.153, 185.199.109.153, 185.199.110.153, ...\n",
            "Connecting to jacobceles.github.io (jacobceles.github.io)|185.199.108.153|:443... connected.\n",
            "HTTP request sent, awaiting response... 301 Moved Permanently\n",
            "Location: https://jacobcelestine.com/knowledge_repo/colab_and_pyspark/cars.csv [following]\n",
            "--2023-07-09 09:36:00--  https://jacobcelestine.com/knowledge_repo/colab_and_pyspark/cars.csv\n",
            "Resolving jacobcelestine.com (jacobcelestine.com)... 185.199.108.153, 185.199.109.153, 185.199.110.153, ...\n",
            "Connecting to jacobcelestine.com (jacobcelestine.com)|185.199.108.153|:443... connected.\n",
            "HTTP request sent, awaiting response... 200 OK\n",
            "Length: 22608 (22K) [text/csv]\n",
            "Saving to: ‘cars.csv.1’\n",
            "\n",
            "cars.csv.1          100%[===================>]  22.08K  --.-KB/s    in 0s      \n",
            "\n",
            "2023-07-09 09:36:00 (49.5 MB/s) - ‘cars.csv.1’ saved [22608/22608]\n",
            "\n"
          ]
        }
      ]
    },
    {
      "cell_type": "code",
      "source": [
        "df = spark.read.csv('cars.csv', header = True, sep = \";\")\n",
        "df.show()"
      ],
      "metadata": {
        "colab": {
          "base_uri": "https://localhost:8080/"
        },
        "id": "4ZvwowCHFRJ7",
        "outputId": "f3c4bd07-5bae-456d-d6f3-ab5fd26f732a"
      },
      "execution_count": 18,
      "outputs": [
        {
          "output_type": "stream",
          "name": "stdout",
          "text": [
            "+--------------------+----+---------+------------+----------+------+------------+-----+------+\n",
            "|                 Car| MPG|Cylinders|Displacement|Horsepower|Weight|Acceleration|Model|Origin|\n",
            "+--------------------+----+---------+------------+----------+------+------------+-----+------+\n",
            "|Chevrolet Chevell...|18.0|        8|       307.0|     130.0| 3504.|        12.0|   70|    US|\n",
            "|   Buick Skylark 320|15.0|        8|       350.0|     165.0| 3693.|        11.5|   70|    US|\n",
            "|  Plymouth Satellite|18.0|        8|       318.0|     150.0| 3436.|        11.0|   70|    US|\n",
            "|       AMC Rebel SST|16.0|        8|       304.0|     150.0| 3433.|        12.0|   70|    US|\n",
            "|         Ford Torino|17.0|        8|       302.0|     140.0| 3449.|        10.5|   70|    US|\n",
            "|    Ford Galaxie 500|15.0|        8|       429.0|     198.0| 4341.|        10.0|   70|    US|\n",
            "|    Chevrolet Impala|14.0|        8|       454.0|     220.0| 4354.|         9.0|   70|    US|\n",
            "|   Plymouth Fury iii|14.0|        8|       440.0|     215.0| 4312.|         8.5|   70|    US|\n",
            "|    Pontiac Catalina|14.0|        8|       455.0|     225.0| 4425.|        10.0|   70|    US|\n",
            "|  AMC Ambassador DPL|15.0|        8|       390.0|     190.0| 3850.|         8.5|   70|    US|\n",
            "|Citroen DS-21 Pallas|   0|        4|       133.0|     115.0| 3090.|        17.5|   70|Europe|\n",
            "|Chevrolet Chevell...|   0|        8|       350.0|     165.0| 4142.|        11.5|   70|    US|\n",
            "|    Ford Torino (sw)|   0|        8|       351.0|     153.0| 4034.|        11.0|   70|    US|\n",
            "|Plymouth Satellit...|   0|        8|       383.0|     175.0| 4166.|        10.5|   70|    US|\n",
            "|  AMC Rebel SST (sw)|   0|        8|       360.0|     175.0| 3850.|        11.0|   70|    US|\n",
            "| Dodge Challenger SE|15.0|        8|       383.0|     170.0| 3563.|        10.0|   70|    US|\n",
            "|  Plymouth 'Cuda 340|14.0|        8|       340.0|     160.0| 3609.|         8.0|   70|    US|\n",
            "|Ford Mustang Boss...|   0|        8|       302.0|     140.0| 3353.|         8.0|   70|    US|\n",
            "|Chevrolet Monte C...|15.0|        8|       400.0|     150.0| 3761.|         9.5|   70|    US|\n",
            "|Buick Estate Wago...|14.0|        8|       455.0|     225.0| 3086.|        10.0|   70|    US|\n",
            "+--------------------+----+---------+------------+----------+------+------------+-----+------+\n",
            "only showing top 20 rows\n",
            "\n"
          ]
        }
      ]
    },
    {
      "cell_type": "code",
      "source": [
        "df.dtypes"
      ],
      "metadata": {
        "colab": {
          "base_uri": "https://localhost:8080/"
        },
        "id": "eUMz0r16H6gH",
        "outputId": "aefd2ac4-dae2-4280-d819-f96286092020"
      },
      "execution_count": 19,
      "outputs": [
        {
          "output_type": "execute_result",
          "data": {
            "text/plain": [
              "[('Car', 'string'),\n",
              " ('MPG', 'string'),\n",
              " ('Cylinders', 'string'),\n",
              " ('Displacement', 'string'),\n",
              " ('Horsepower', 'string'),\n",
              " ('Weight', 'string'),\n",
              " ('Acceleration', 'string'),\n",
              " ('Model', 'string'),\n",
              " ('Origin', 'string')]"
            ]
          },
          "metadata": {},
          "execution_count": 19
        }
      ]
    },
    {
      "cell_type": "code",
      "source": [
        "df.printSchema()"
      ],
      "metadata": {
        "colab": {
          "base_uri": "https://localhost:8080/"
        },
        "id": "5lr4szpDIXl8",
        "outputId": "5c955cc7-6b56-4c38-ea00-a22ade161385"
      },
      "execution_count": 21,
      "outputs": [
        {
          "output_type": "stream",
          "name": "stdout",
          "text": [
            "root\n",
            " |-- Car: string (nullable = true)\n",
            " |-- MPG: string (nullable = true)\n",
            " |-- Cylinders: string (nullable = true)\n",
            " |-- Displacement: string (nullable = true)\n",
            " |-- Horsepower: string (nullable = true)\n",
            " |-- Weight: string (nullable = true)\n",
            " |-- Acceleration: string (nullable = true)\n",
            " |-- Model: string (nullable = true)\n",
            " |-- Origin: string (nullable = true)\n",
            "\n"
          ]
        }
      ]
    },
    {
      "cell_type": "code",
      "source": [
        "## implicitly infer the schema while inputing data\n",
        "df = spark.read.csv('cars.csv', header = True, sep = \";\", inferSchema = True)\n",
        "df.printSchema()"
      ],
      "metadata": {
        "colab": {
          "base_uri": "https://localhost:8080/"
        },
        "id": "ucyYq1bYIbDi",
        "outputId": "66cf6889-59b2-455a-e70c-2aceee4f575f"
      },
      "execution_count": 23,
      "outputs": [
        {
          "output_type": "stream",
          "name": "stdout",
          "text": [
            "root\n",
            " |-- Car: string (nullable = true)\n",
            " |-- MPG: double (nullable = true)\n",
            " |-- Cylinders: integer (nullable = true)\n",
            " |-- Displacement: double (nullable = true)\n",
            " |-- Horsepower: double (nullable = true)\n",
            " |-- Weight: decimal(4,0) (nullable = true)\n",
            " |-- Acceleration: double (nullable = true)\n",
            " |-- Model: integer (nullable = true)\n",
            " |-- Origin: string (nullable = true)\n",
            "\n"
          ]
        }
      ]
    },
    {
      "cell_type": "code",
      "source": [
        "## explicitly defining schemas\n",
        "from pyspark.sql.types import *\n",
        "df.columns"
      ],
      "metadata": {
        "colab": {
          "base_uri": "https://localhost:8080/"
        },
        "id": "Hczqb6pwIybf",
        "outputId": "5a565ea9-ee57-476a-812b-70460c9e356d"
      },
      "execution_count": 24,
      "outputs": [
        {
          "output_type": "execute_result",
          "data": {
            "text/plain": [
              "['Car',\n",
              " 'MPG',\n",
              " 'Cylinders',\n",
              " 'Displacement',\n",
              " 'Horsepower',\n",
              " 'Weight',\n",
              " 'Acceleration',\n",
              " 'Model',\n",
              " 'Origin']"
            ]
          },
          "metadata": {},
          "execution_count": 24
        }
      ]
    },
    {
      "cell_type": "code",
      "source": [
        "# Creating a list of the schema in the format column_name, data_type\n",
        "labels = [\n",
        "     ('Car',StringType()),\n",
        "     ('MPG',DoubleType()),\n",
        "     ('Cylinders',IntegerType()),\n",
        "     ('Displacement',DoubleType()),\n",
        "     ('Horsepower',DoubleType()),\n",
        "     ('Weight',DoubleType()),\n",
        "     ('Acceleration',DoubleType()),\n",
        "     ('Model',IntegerType()),\n",
        "     ('Origin',StringType())\n",
        "]"
      ],
      "metadata": {
        "id": "nMyxMqDZJhJw"
      },
      "execution_count": 25,
      "outputs": []
    },
    {
      "cell_type": "code",
      "source": [
        "# Creating the schema that will be passed when reading the csv\n",
        "custom_schema = StructType([StructField (x[0], x[1], True) for x in labels])\n",
        "custom_schema"
      ],
      "metadata": {
        "colab": {
          "base_uri": "https://localhost:8080/"
        },
        "id": "AGHscztqJq4m",
        "outputId": "3a9458df-c4fc-4de6-f126-39de79f1fc57"
      },
      "execution_count": 26,
      "outputs": [
        {
          "output_type": "execute_result",
          "data": {
            "text/plain": [
              "StructType(List(StructField(Car,StringType,true),StructField(MPG,DoubleType,true),StructField(Cylinders,IntegerType,true),StructField(Displacement,DoubleType,true),StructField(Horsepower,DoubleType,true),StructField(Weight,DoubleType,true),StructField(Acceleration,DoubleType,true),StructField(Model,IntegerType,true),StructField(Origin,StringType,true)))"
            ]
          },
          "metadata": {},
          "execution_count": 26
        }
      ]
    },
    {
      "cell_type": "code",
      "source": [
        "df = spark.read.csv('cars.csv', header=True, sep=\";\", schema=custom_schema)\n",
        "df.printSchema()"
      ],
      "metadata": {
        "colab": {
          "base_uri": "https://localhost:8080/"
        },
        "id": "8QD-jt9DJzUb",
        "outputId": "5b83636d-f6e9-431c-8656-995e29cdc49e"
      },
      "execution_count": 27,
      "outputs": [
        {
          "output_type": "stream",
          "name": "stdout",
          "text": [
            "root\n",
            " |-- Car: string (nullable = true)\n",
            " |-- MPG: double (nullable = true)\n",
            " |-- Cylinders: integer (nullable = true)\n",
            " |-- Displacement: double (nullable = true)\n",
            " |-- Horsepower: double (nullable = true)\n",
            " |-- Weight: double (nullable = true)\n",
            " |-- Acceleration: double (nullable = true)\n",
            " |-- Model: integer (nullable = true)\n",
            " |-- Origin: string (nullable = true)\n",
            "\n"
          ]
        }
      ]
    },
    {
      "cell_type": "code",
      "source": [
        "df.select(df['car'],df['mpg'])"
      ],
      "metadata": {
        "colab": {
          "base_uri": "https://localhost:8080/",
          "height": 514
        },
        "id": "2dDoXpANJ7S_",
        "outputId": "ec1cc258-d88d-41c6-8c37-1121eaa0773b"
      },
      "execution_count": 28,
      "outputs": [
        {
          "output_type": "execute_result",
          "data": {
            "text/plain": [
              "+--------------------+----+\n",
              "|                 car| mpg|\n",
              "+--------------------+----+\n",
              "|Chevrolet Chevell...|18.0|\n",
              "|   Buick Skylark 320|15.0|\n",
              "|  Plymouth Satellite|18.0|\n",
              "|       AMC Rebel SST|16.0|\n",
              "|         Ford Torino|17.0|\n",
              "|    Ford Galaxie 500|15.0|\n",
              "|    Chevrolet Impala|14.0|\n",
              "|   Plymouth Fury iii|14.0|\n",
              "|    Pontiac Catalina|14.0|\n",
              "|  AMC Ambassador DPL|15.0|\n",
              "|Citroen DS-21 Pallas| 0.0|\n",
              "|Chevrolet Chevell...| 0.0|\n",
              "|    Ford Torino (sw)| 0.0|\n",
              "|Plymouth Satellit...| 0.0|\n",
              "|  AMC Rebel SST (sw)| 0.0|\n",
              "| Dodge Challenger SE|15.0|\n",
              "|  Plymouth 'Cuda 340|14.0|\n",
              "|Ford Mustang Boss...| 0.0|\n",
              "|Chevrolet Monte C...|15.0|\n",
              "|Buick Estate Wago...|14.0|\n",
              "+--------------------+----+\n",
              "only showing top 20 rows"
            ],
            "text/html": [
              "<table border='1'>\n",
              "<tr><th>car</th><th>mpg</th></tr>\n",
              "<tr><td>Chevrolet Chevell...</td><td>18.0</td></tr>\n",
              "<tr><td>Buick Skylark 320</td><td>15.0</td></tr>\n",
              "<tr><td>Plymouth Satellite</td><td>18.0</td></tr>\n",
              "<tr><td>AMC Rebel SST</td><td>16.0</td></tr>\n",
              "<tr><td>Ford Torino</td><td>17.0</td></tr>\n",
              "<tr><td>Ford Galaxie 500</td><td>15.0</td></tr>\n",
              "<tr><td>Chevrolet Impala</td><td>14.0</td></tr>\n",
              "<tr><td>Plymouth Fury iii</td><td>14.0</td></tr>\n",
              "<tr><td>Pontiac Catalina</td><td>14.0</td></tr>\n",
              "<tr><td>AMC Ambassador DPL</td><td>15.0</td></tr>\n",
              "<tr><td>Citroen DS-21 Pallas</td><td>0.0</td></tr>\n",
              "<tr><td>Chevrolet Chevell...</td><td>0.0</td></tr>\n",
              "<tr><td>Ford Torino (sw)</td><td>0.0</td></tr>\n",
              "<tr><td>Plymouth Satellit...</td><td>0.0</td></tr>\n",
              "<tr><td>AMC Rebel SST (sw)</td><td>0.0</td></tr>\n",
              "<tr><td>Dodge Challenger SE</td><td>15.0</td></tr>\n",
              "<tr><td>Plymouth &#x27;Cuda 340</td><td>14.0</td></tr>\n",
              "<tr><td>Ford Mustang Boss...</td><td>0.0</td></tr>\n",
              "<tr><td>Chevrolet Monte C...</td><td>15.0</td></tr>\n",
              "<tr><td>Buick Estate Wago...</td><td>14.0</td></tr>\n",
              "</table>\n",
              "only showing top 20 rows\n"
            ]
          },
          "metadata": {},
          "execution_count": 28
        }
      ]
    },
    {
      "cell_type": "code",
      "source": [
        "# Column name is case insensitive in this usage\n",
        "from pyspark.sql.functions import col\n",
        "df.select(col('car'),col('cylinders')).show(truncate=False)"
      ],
      "metadata": {
        "colab": {
          "base_uri": "https://localhost:8080/"
        },
        "id": "h5nUs8aWK3FO",
        "outputId": "4fd0a382-5d99-48ac-b00d-343c55645126"
      },
      "execution_count": 29,
      "outputs": [
        {
          "output_type": "stream",
          "name": "stdout",
          "text": [
            "+--------------------------------+---------+\n",
            "|car                             |cylinders|\n",
            "+--------------------------------+---------+\n",
            "|Chevrolet Chevelle Malibu       |8        |\n",
            "|Buick Skylark 320               |8        |\n",
            "|Plymouth Satellite              |8        |\n",
            "|AMC Rebel SST                   |8        |\n",
            "|Ford Torino                     |8        |\n",
            "|Ford Galaxie 500                |8        |\n",
            "|Chevrolet Impala                |8        |\n",
            "|Plymouth Fury iii               |8        |\n",
            "|Pontiac Catalina                |8        |\n",
            "|AMC Ambassador DPL              |8        |\n",
            "|Citroen DS-21 Pallas            |4        |\n",
            "|Chevrolet Chevelle Concours (sw)|8        |\n",
            "|Ford Torino (sw)                |8        |\n",
            "|Plymouth Satellite (sw)         |8        |\n",
            "|AMC Rebel SST (sw)              |8        |\n",
            "|Dodge Challenger SE             |8        |\n",
            "|Plymouth 'Cuda 340              |8        |\n",
            "|Ford Mustang Boss 302           |8        |\n",
            "|Chevrolet Monte Carlo           |8        |\n",
            "|Buick Estate Wagon (sw)         |8        |\n",
            "+--------------------------------+---------+\n",
            "only showing top 20 rows\n",
            "\n"
          ]
        }
      ]
    },
    {
      "cell_type": "code",
      "source": [
        "## Adding a NEW COLUMN to df\n",
        "# Column name is case insensitive in this usage\n",
        "from pyspark.sql.functions import lit\n",
        "df = df.withColumn(\"new_col\", lit(100))\n",
        "df.show()\n",
        "\n",
        "# lit means literal. It populates the row with the literal value given.\n",
        "# When adding static data / constant values, it is a good practice to use it."
      ],
      "metadata": {
        "colab": {
          "base_uri": "https://localhost:8080/"
        },
        "id": "KLDRwTLQLApg",
        "outputId": "ac5a2b26-2003-4a0f-da4e-6581f8fe1bae"
      },
      "execution_count": 30,
      "outputs": [
        {
          "output_type": "stream",
          "name": "stdout",
          "text": [
            "+--------------------+----+---------+------------+----------+------+------------+-----+------+-------+\n",
            "|                 Car| MPG|Cylinders|Displacement|Horsepower|Weight|Acceleration|Model|Origin|new_col|\n",
            "+--------------------+----+---------+------------+----------+------+------------+-----+------+-------+\n",
            "|Chevrolet Chevell...|18.0|        8|       307.0|     130.0|3504.0|        12.0|   70|    US|    100|\n",
            "|   Buick Skylark 320|15.0|        8|       350.0|     165.0|3693.0|        11.5|   70|    US|    100|\n",
            "|  Plymouth Satellite|18.0|        8|       318.0|     150.0|3436.0|        11.0|   70|    US|    100|\n",
            "|       AMC Rebel SST|16.0|        8|       304.0|     150.0|3433.0|        12.0|   70|    US|    100|\n",
            "|         Ford Torino|17.0|        8|       302.0|     140.0|3449.0|        10.5|   70|    US|    100|\n",
            "|    Ford Galaxie 500|15.0|        8|       429.0|     198.0|4341.0|        10.0|   70|    US|    100|\n",
            "|    Chevrolet Impala|14.0|        8|       454.0|     220.0|4354.0|         9.0|   70|    US|    100|\n",
            "|   Plymouth Fury iii|14.0|        8|       440.0|     215.0|4312.0|         8.5|   70|    US|    100|\n",
            "|    Pontiac Catalina|14.0|        8|       455.0|     225.0|4425.0|        10.0|   70|    US|    100|\n",
            "|  AMC Ambassador DPL|15.0|        8|       390.0|     190.0|3850.0|         8.5|   70|    US|    100|\n",
            "|Citroen DS-21 Pallas| 0.0|        4|       133.0|     115.0|3090.0|        17.5|   70|Europe|    100|\n",
            "|Chevrolet Chevell...| 0.0|        8|       350.0|     165.0|4142.0|        11.5|   70|    US|    100|\n",
            "|    Ford Torino (sw)| 0.0|        8|       351.0|     153.0|4034.0|        11.0|   70|    US|    100|\n",
            "|Plymouth Satellit...| 0.0|        8|       383.0|     175.0|4166.0|        10.5|   70|    US|    100|\n",
            "|  AMC Rebel SST (sw)| 0.0|        8|       360.0|     175.0|3850.0|        11.0|   70|    US|    100|\n",
            "| Dodge Challenger SE|15.0|        8|       383.0|     170.0|3563.0|        10.0|   70|    US|    100|\n",
            "|  Plymouth 'Cuda 340|14.0|        8|       340.0|     160.0|3609.0|         8.0|   70|    US|    100|\n",
            "|Ford Mustang Boss...| 0.0|        8|       302.0|     140.0|3353.0|         8.0|   70|    US|    100|\n",
            "|Chevrolet Monte C...|15.0|        8|       400.0|     150.0|3761.0|         9.5|   70|    US|    100|\n",
            "|Buick Estate Wago...|14.0|        8|       455.0|     225.0|3086.0|        10.0|   70|    US|    100|\n",
            "+--------------------+----+---------+------------+----------+------+------------+-----+------+-------+\n",
            "only showing top 20 rows\n",
            "\n"
          ]
        }
      ]
    },
    {
      "cell_type": "code",
      "source": [
        "df = df.withColumn(\"new_col\", lit(100)) .withColumn(\"new_col1\",lit(200))\n",
        "df.show()"
      ],
      "metadata": {
        "colab": {
          "base_uri": "https://localhost:8080/"
        },
        "id": "ePJq2EGQLcd-",
        "outputId": "12f537eb-3fe9-4942-aa2c-a79e443e2b93"
      },
      "execution_count": 31,
      "outputs": [
        {
          "output_type": "stream",
          "name": "stdout",
          "text": [
            "+--------------------+----+---------+------------+----------+------+------------+-----+------+-------+--------+\n",
            "|                 Car| MPG|Cylinders|Displacement|Horsepower|Weight|Acceleration|Model|Origin|new_col|new_col1|\n",
            "+--------------------+----+---------+------------+----------+------+------------+-----+------+-------+--------+\n",
            "|Chevrolet Chevell...|18.0|        8|       307.0|     130.0|3504.0|        12.0|   70|    US|    100|     200|\n",
            "|   Buick Skylark 320|15.0|        8|       350.0|     165.0|3693.0|        11.5|   70|    US|    100|     200|\n",
            "|  Plymouth Satellite|18.0|        8|       318.0|     150.0|3436.0|        11.0|   70|    US|    100|     200|\n",
            "|       AMC Rebel SST|16.0|        8|       304.0|     150.0|3433.0|        12.0|   70|    US|    100|     200|\n",
            "|         Ford Torino|17.0|        8|       302.0|     140.0|3449.0|        10.5|   70|    US|    100|     200|\n",
            "|    Ford Galaxie 500|15.0|        8|       429.0|     198.0|4341.0|        10.0|   70|    US|    100|     200|\n",
            "|    Chevrolet Impala|14.0|        8|       454.0|     220.0|4354.0|         9.0|   70|    US|    100|     200|\n",
            "|   Plymouth Fury iii|14.0|        8|       440.0|     215.0|4312.0|         8.5|   70|    US|    100|     200|\n",
            "|    Pontiac Catalina|14.0|        8|       455.0|     225.0|4425.0|        10.0|   70|    US|    100|     200|\n",
            "|  AMC Ambassador DPL|15.0|        8|       390.0|     190.0|3850.0|         8.5|   70|    US|    100|     200|\n",
            "|Citroen DS-21 Pallas| 0.0|        4|       133.0|     115.0|3090.0|        17.5|   70|Europe|    100|     200|\n",
            "|Chevrolet Chevell...| 0.0|        8|       350.0|     165.0|4142.0|        11.5|   70|    US|    100|     200|\n",
            "|    Ford Torino (sw)| 0.0|        8|       351.0|     153.0|4034.0|        11.0|   70|    US|    100|     200|\n",
            "|Plymouth Satellit...| 0.0|        8|       383.0|     175.0|4166.0|        10.5|   70|    US|    100|     200|\n",
            "|  AMC Rebel SST (sw)| 0.0|        8|       360.0|     175.0|3850.0|        11.0|   70|    US|    100|     200|\n",
            "| Dodge Challenger SE|15.0|        8|       383.0|     170.0|3563.0|        10.0|   70|    US|    100|     200|\n",
            "|  Plymouth 'Cuda 340|14.0|        8|       340.0|     160.0|3609.0|         8.0|   70|    US|    100|     200|\n",
            "|Ford Mustang Boss...| 0.0|        8|       302.0|     140.0|3353.0|         8.0|   70|    US|    100|     200|\n",
            "|Chevrolet Monte C...|15.0|        8|       400.0|     150.0|3761.0|         9.5|   70|    US|    100|     200|\n",
            "|Buick Estate Wago...|14.0|        8|       455.0|     225.0|3086.0|        10.0|   70|    US|    100|     200|\n",
            "+--------------------+----+---------+------------+----------+------+------------+-----+------+-------+--------+\n",
            "only showing top 20 rows\n",
            "\n"
          ]
        }
      ]
    },
    {
      "cell_type": "code",
      "source": [
        "from pyspark.sql.functions import concat\n",
        "df = df.withColumn(\"new_col3\", concat(col(\"origin\"), lit(\"-\"), col(\"model\")))\n",
        "df.show()"
      ],
      "metadata": {
        "colab": {
          "base_uri": "https://localhost:8080/"
        },
        "id": "BZ5BbJX5Lw_p",
        "outputId": "0e9d539a-6588-4ba8-cf93-b02fbf2df22a"
      },
      "execution_count": 41,
      "outputs": [
        {
          "output_type": "stream",
          "name": "stdout",
          "text": [
            "+--------------------+----+---------+------------+----------+------+------------+-----+------+-------+--------+---------+\n",
            "|                 Car| MPG|Cylinders|Displacement|Horsepower|Weight|Acceleration|Model|Origin|new_col|new_col1| new_col3|\n",
            "+--------------------+----+---------+------------+----------+------+------------+-----+------+-------+--------+---------+\n",
            "|Chevrolet Chevell...|18.0|        8|       307.0|     130.0|3504.0|        12.0|   70|    US|    100|     200|    US-70|\n",
            "|   Buick Skylark 320|15.0|        8|       350.0|     165.0|3693.0|        11.5|   70|    US|    100|     200|    US-70|\n",
            "|  Plymouth Satellite|18.0|        8|       318.0|     150.0|3436.0|        11.0|   70|    US|    100|     200|    US-70|\n",
            "|       AMC Rebel SST|16.0|        8|       304.0|     150.0|3433.0|        12.0|   70|    US|    100|     200|    US-70|\n",
            "|         Ford Torino|17.0|        8|       302.0|     140.0|3449.0|        10.5|   70|    US|    100|     200|    US-70|\n",
            "|    Ford Galaxie 500|15.0|        8|       429.0|     198.0|4341.0|        10.0|   70|    US|    100|     200|    US-70|\n",
            "|    Chevrolet Impala|14.0|        8|       454.0|     220.0|4354.0|         9.0|   70|    US|    100|     200|    US-70|\n",
            "|   Plymouth Fury iii|14.0|        8|       440.0|     215.0|4312.0|         8.5|   70|    US|    100|     200|    US-70|\n",
            "|    Pontiac Catalina|14.0|        8|       455.0|     225.0|4425.0|        10.0|   70|    US|    100|     200|    US-70|\n",
            "|  AMC Ambassador DPL|15.0|        8|       390.0|     190.0|3850.0|         8.5|   70|    US|    100|     200|    US-70|\n",
            "|Citroen DS-21 Pallas| 0.0|        4|       133.0|     115.0|3090.0|        17.5|   70|Europe|    100|     200|Europe-70|\n",
            "|Chevrolet Chevell...| 0.0|        8|       350.0|     165.0|4142.0|        11.5|   70|    US|    100|     200|    US-70|\n",
            "|    Ford Torino (sw)| 0.0|        8|       351.0|     153.0|4034.0|        11.0|   70|    US|    100|     200|    US-70|\n",
            "|Plymouth Satellit...| 0.0|        8|       383.0|     175.0|4166.0|        10.5|   70|    US|    100|     200|    US-70|\n",
            "|  AMC Rebel SST (sw)| 0.0|        8|       360.0|     175.0|3850.0|        11.0|   70|    US|    100|     200|    US-70|\n",
            "| Dodge Challenger SE|15.0|        8|       383.0|     170.0|3563.0|        10.0|   70|    US|    100|     200|    US-70|\n",
            "|  Plymouth 'Cuda 340|14.0|        8|       340.0|     160.0|3609.0|         8.0|   70|    US|    100|     200|    US-70|\n",
            "|Ford Mustang Boss...| 0.0|        8|       302.0|     140.0|3353.0|         8.0|   70|    US|    100|     200|    US-70|\n",
            "|Chevrolet Monte C...|15.0|        8|       400.0|     150.0|3761.0|         9.5|   70|    US|    100|     200|    US-70|\n",
            "|Buick Estate Wago...|14.0|        8|       455.0|     225.0|3086.0|        10.0|   70|    US|    100|     200|    US-70|\n",
            "+--------------------+----+---------+------------+----------+------+------------+-----+------+-------+--------+---------+\n",
            "only showing top 20 rows\n",
            "\n"
          ]
        }
      ]
    },
    {
      "cell_type": "code",
      "source": [
        "df = df.withColumnRenamed(\"new_col\", \"qty\")\n",
        "df.show(5)"
      ],
      "metadata": {
        "colab": {
          "base_uri": "https://localhost:8080/"
        },
        "id": "ucppLNfeMWZJ",
        "outputId": "7e332bf7-e8cb-4bfc-ac73-5c36d181b9d5"
      },
      "execution_count": 42,
      "outputs": [
        {
          "output_type": "stream",
          "name": "stdout",
          "text": [
            "+--------------------+----+---------+------------+----------+------+------------+-----+------+---+--------+--------+\n",
            "|                 Car| MPG|Cylinders|Displacement|Horsepower|Weight|Acceleration|Model|Origin|qty|new_col1|new_col3|\n",
            "+--------------------+----+---------+------------+----------+------+------------+-----+------+---+--------+--------+\n",
            "|Chevrolet Chevell...|18.0|        8|       307.0|     130.0|3504.0|        12.0|   70|    US|100|     200|   US-70|\n",
            "|   Buick Skylark 320|15.0|        8|       350.0|     165.0|3693.0|        11.5|   70|    US|100|     200|   US-70|\n",
            "|  Plymouth Satellite|18.0|        8|       318.0|     150.0|3436.0|        11.0|   70|    US|100|     200|   US-70|\n",
            "|       AMC Rebel SST|16.0|        8|       304.0|     150.0|3433.0|        12.0|   70|    US|100|     200|   US-70|\n",
            "|         Ford Torino|17.0|        8|       302.0|     140.0|3449.0|        10.5|   70|    US|100|     200|   US-70|\n",
            "+--------------------+----+---------+------------+----------+------+------------+-----+------+---+--------+--------+\n",
            "only showing top 5 rows\n",
            "\n"
          ]
        }
      ]
    },
    {
      "cell_type": "code",
      "source": [
        "df.groupBy('origin').count().show()"
      ],
      "metadata": {
        "colab": {
          "base_uri": "https://localhost:8080/"
        },
        "id": "OB7JXiinNunq",
        "outputId": "df7dc9fd-ae1b-45ad-c4a3-53b56b5ecf6e"
      },
      "execution_count": 44,
      "outputs": [
        {
          "output_type": "stream",
          "name": "stdout",
          "text": [
            "+------+-----+\n",
            "|origin|count|\n",
            "+------+-----+\n",
            "|Europe|   73|\n",
            "|    US|  254|\n",
            "| Japan|   79|\n",
            "+------+-----+\n",
            "\n"
          ]
        }
      ]
    },
    {
      "cell_type": "code",
      "source": [
        "df.groupBy('origin','model').count().show()"
      ],
      "metadata": {
        "colab": {
          "base_uri": "https://localhost:8080/"
        },
        "id": "R0at_aTfN9zI",
        "outputId": "fe0d2a6d-49b2-4e1b-cb21-a7864f6af3ce"
      },
      "execution_count": 45,
      "outputs": [
        {
          "output_type": "stream",
          "name": "stdout",
          "text": [
            "+------+-----+-----+\n",
            "|origin|model|count|\n",
            "+------+-----+-----+\n",
            "|Europe|   71|    5|\n",
            "|Europe|   80|    9|\n",
            "|Europe|   79|    4|\n",
            "| Japan|   75|    4|\n",
            "|    US|   72|   18|\n",
            "|    US|   80|    7|\n",
            "|Europe|   74|    6|\n",
            "| Japan|   79|    2|\n",
            "|Europe|   76|    8|\n",
            "|    US|   75|   20|\n",
            "| Japan|   77|    6|\n",
            "|    US|   82|   20|\n",
            "| Japan|   80|   13|\n",
            "| Japan|   78|    8|\n",
            "|    US|   78|   22|\n",
            "|Europe|   75|    6|\n",
            "|    US|   71|   20|\n",
            "|    US|   77|   18|\n",
            "| Japan|   70|    2|\n",
            "| Japan|   71|    4|\n",
            "+------+-----+-----+\n",
            "only showing top 20 rows\n",
            "\n"
          ]
        }
      ]
    },
    {
      "cell_type": "code",
      "source": [
        "df = df.drop('qty') .drop('new_col1') .drop('new_col3')"
      ],
      "metadata": {
        "id": "cVhDkI-lOFpL"
      },
      "execution_count": 48,
      "outputs": []
    },
    {
      "cell_type": "code",
      "source": [
        "df.show(5)"
      ],
      "metadata": {
        "colab": {
          "base_uri": "https://localhost:8080/"
        },
        "id": "GIwdz07-Obaa",
        "outputId": "5e8eb2f5-da2c-408d-b050-adcb6c64f3e4"
      },
      "execution_count": 49,
      "outputs": [
        {
          "output_type": "stream",
          "name": "stdout",
          "text": [
            "+--------------------+----+---------+------------+----------+------+------------+-----+------+\n",
            "|                 Car| MPG|Cylinders|Displacement|Horsepower|Weight|Acceleration|Model|Origin|\n",
            "+--------------------+----+---------+------------+----------+------+------------+-----+------+\n",
            "|Chevrolet Chevell...|18.0|        8|       307.0|     130.0|3504.0|        12.0|   70|    US|\n",
            "|   Buick Skylark 320|15.0|        8|       350.0|     165.0|3693.0|        11.5|   70|    US|\n",
            "|  Plymouth Satellite|18.0|        8|       318.0|     150.0|3436.0|        11.0|   70|    US|\n",
            "|       AMC Rebel SST|16.0|        8|       304.0|     150.0|3433.0|        12.0|   70|    US|\n",
            "|         Ford Torino|17.0|        8|       302.0|     140.0|3449.0|        10.5|   70|    US|\n",
            "+--------------------+----+---------+------------+----------+------+------------+-----+------+\n",
            "only showing top 5 rows\n",
            "\n"
          ]
        }
      ]
    },
    {
      "cell_type": "code",
      "source": [],
      "metadata": {
        "id": "Fl0yheFnOdic"
      },
      "execution_count": null,
      "outputs": []
    }
  ]
}