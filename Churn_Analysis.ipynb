{
  "nbformat": 4,
  "nbformat_minor": 0,
  "metadata": {
    "colab": {
      "provenance": [],
      "authorship_tag": "ABX9TyNGZ9vFZFIDioKu4bXnDIDp",
      "include_colab_link": true
    },
    "kernelspec": {
      "name": "python3",
      "display_name": "Python 3"
    },
    "language_info": {
      "name": "python"
    }
  },
  "cells": [
    {
      "cell_type": "markdown",
      "metadata": {
        "id": "view-in-github",
        "colab_type": "text"
      },
      "source": [
        "<a href=\"https://colab.research.google.com/github/AsmitaGhoderao/spark-projects/blob/main/Churn_Analysis.ipynb\" target=\"_parent\"><img src=\"https://colab.research.google.com/assets/colab-badge.svg\" alt=\"Open In Colab\"/></a>"
      ]
    },
    {
      "cell_type": "code",
      "execution_count": 7,
      "metadata": {
        "id": "461Q2gYzgeXg"
      },
      "outputs": [],
      "source": [
        "!apt-get install openjdk-8-jdk-headless -qq > /dev/null\n",
        "!wget -q http://archive.apache.org/dist/spark/spark-3.1.1/spark-3.1.1-bin-hadoop3.2.tgz\n",
        "!tar xf spark-3.1.1-bin-hadoop3.2.tgz\n",
        "!pip install -q findspark\n",
        "\n",
        "import os\n",
        "os.environ[\"JAVA_HOME\"] = \"/usr/lib/jvm/java-8-openjdk-amd64\"\n",
        "os.environ[\"SPARK_HOME\"] = \"/content/spark-3.1.1-bin-hadoop3.2\""
      ]
    },
    {
      "cell_type": "code",
      "source": [
        "import warnings\n",
        "warnings.filterwarnings('ignore')\n",
        "\n",
        "import matplotlib.pyplot as plt\n",
        "%matplotlib inline\n",
        "\n",
        "import pandas as pd\n",
        "import numpy as np\n",
        "\n",
        "import findspark\n",
        "findspark.init()\n",
        "\n",
        "from pyspark.sql import SparkSession\n",
        "from pyspark.sql.types import *\n",
        "from pyspark.sql import Row\n",
        "import seaborn as sns\n",
        "from pyspark import SparkContext\n",
        "from pyspark import SQLContext"
      ],
      "metadata": {
        "id": "HVeXBU4yguTB"
      },
      "execution_count": 8,
      "outputs": []
    },
    {
      "cell_type": "markdown",
      "source": [
        "# Spark Configuration"
      ],
      "metadata": {
        "id": "n8CEosQ4n3SL"
      }
    },
    {
      "cell_type": "code",
      "source": [
        "spark = SparkSession.builder.master(\"local[*]\").getOrCreate()\n",
        "spark.conf.set(\"Spark.sql.repl.eagerEval.enabled\", True)"
      ],
      "metadata": {
        "id": "geeqV1FPhWdR"
      },
      "execution_count": 9,
      "outputs": []
    },
    {
      "cell_type": "markdown",
      "source": [
        "# Import CHURN Dataset"
      ],
      "metadata": {
        "id": "DAdSdPE1oGS_"
      }
    },
    {
      "cell_type": "code",
      "source": [
        "df = spark.read.csv('/content/sample_data/Churn.csv', inferSchema = True, header = True)"
      ],
      "metadata": {
        "id": "qkzRLKlLnaY4"
      },
      "execution_count": 13,
      "outputs": []
    },
    {
      "cell_type": "code",
      "source": [
        "df.show()"
      ],
      "metadata": {
        "colab": {
          "base_uri": "https://localhost:8080/"
        },
        "id": "8EevUTe2oNfy",
        "outputId": "9013c7ce-aae4-43eb-f9a6-5abbe0b8eb69"
      },
      "execution_count": 14,
      "outputs": [
        {
          "output_type": "stream",
          "name": "stdout",
          "text": [
            "+-------------+------------+-------+-------+---------+--------+-------------+-----+--------+---------+--------+---------+--------+---------+----------+-----------+---------+----------+-----+--------+--------+\n",
            "|AccountLength|VMailMessage|DayMins|EveMins|NightMins|IntlMins|CustServCalls|Churn|IntlPlan|VMailPlan|DayCalls|DayCharge|EveCalls|EveCharge|NightCalls|NightCharge|IntlCalls|IntlCharge|State|AreaCode|   Phone|\n",
            "+-------------+------------+-------+-------+---------+--------+-------------+-----+--------+---------+--------+---------+--------+---------+----------+-----------+---------+----------+-----+--------+--------+\n",
            "|          128|          25|  265.1|  197.4|    244.7|    10.0|            1|    0|       0|        1|     110|    45.07|      99|    16.78|        91|      11.01|        3|       2.7|   KS|     415|382-4657|\n",
            "|          107|          26|  161.6|  195.5|    254.4|    13.7|            1|    0|       0|        1|     123|    27.47|     103|    16.62|       103|      11.45|        3|       3.7|   OH|     415|371-7191|\n",
            "|          137|           0|  243.4|  121.2|    162.6|    12.2|            0|    0|       0|        0|     114|    41.38|     110|     10.3|       104|       7.32|        5|      3.29|   NJ|     415|358-1921|\n",
            "|           84|           0|  299.4|   61.9|    196.9|     6.6|            2|    0|       1|        0|      71|     50.9|      88|     5.26|        89|       8.86|        7|      1.78|   OH|     408|375-9999|\n",
            "|           75|           0|  166.7|  148.3|    186.9|    10.1|            3|    0|       1|        0|     113|    28.34|     122|    12.61|       121|       8.41|        3|      2.73|   OK|     415|330-6626|\n",
            "|          118|           0|  223.4|  220.6|    203.9|     6.3|            0|    0|       1|        0|      98|    37.98|     101|    18.75|       118|       9.18|        6|       1.7|   AL|     510|391-8027|\n",
            "|          121|          24|  218.2|  348.5|    212.6|     7.5|            3|    0|       0|        1|      88|    37.09|     108|    29.62|       118|       9.57|        7|      2.03|   MA|     510|355-9993|\n",
            "|          147|           0|  157.0|  103.1|    211.8|     7.1|            0|    0|       1|        0|      79|    26.69|      94|     8.76|        96|       9.53|        6|      1.92|   MO|     415|329-9001|\n",
            "|          117|           0|  184.5|  351.6|    215.8|     8.7|            1|    0|       0|        0|      97|    31.37|      80|    29.89|        90|       9.71|        4|      2.35|   LA|     408|335-4719|\n",
            "|          141|          37|  258.6|  222.0|    326.4|    11.2|            0|    0|       1|        1|      84|    43.96|     111|    18.87|        97|      14.69|        5|      3.02|   WV|     415|330-8173|\n",
            "|           65|           0|  129.1|  228.5|    208.8|    12.7|            4|    1|       0|        0|     137|    21.95|      83|    19.42|       111|        9.4|        6|      3.43|   IN|     415|329-6603|\n",
            "|           74|           0|  187.7|  163.4|    196.0|     9.1|            0|    0|       0|        0|     127|    31.91|     148|    13.89|        94|       8.82|        5|      2.46|   RI|     415|344-9403|\n",
            "|          168|           0|  128.8|  104.9|    141.1|    11.2|            1|    0|       0|        0|      96|     21.9|      71|     8.92|       128|       6.35|        2|      3.02|   IA|     408|363-1107|\n",
            "|           95|           0|  156.6|  247.6|    192.3|    12.3|            3|    0|       0|        0|      88|    26.62|      75|    21.05|       115|       8.65|        5|      3.32|   MT|     510|394-8006|\n",
            "|           62|           0|  120.7|  307.2|    203.0|    13.1|            4|    0|       0|        0|      70|    20.52|      76|    26.11|        99|       9.14|        6|      3.54|   IA|     415|366-9238|\n",
            "|          161|           0|  332.9|  317.8|    160.6|     5.4|            4|    1|       0|        0|      67|    56.59|      97|    27.01|       128|       7.23|        9|      1.46|   NY|     415|351-7269|\n",
            "|           85|          27|  196.4|  280.9|     89.3|    13.8|            1|    0|       0|        1|     139|    33.39|      90|    23.88|        75|       4.02|        4|      3.73|   ID|     408|350-8884|\n",
            "|           93|           0|  190.7|  218.2|    129.6|     8.1|            3|    0|       0|        0|     114|    32.42|     111|    18.55|       121|       5.83|        3|      2.19|   VT|     510|386-2923|\n",
            "|           76|          33|  189.7|  212.8|    165.7|    10.0|            1|    0|       0|        1|      66|    32.25|      65|    18.09|       108|       7.46|        5|       2.7|   VA|     510|356-2992|\n",
            "|           73|           0|  224.4|  159.5|    192.8|    13.0|            1|    0|       0|        0|      90|    38.15|      88|    13.56|        74|       8.68|        2|      3.51|   TX|     415|373-2782|\n",
            "+-------------+------------+-------+-------+---------+--------+-------------+-----+--------+---------+--------+---------+--------+---------+----------+-----------+---------+----------+-----+--------+--------+\n",
            "only showing top 20 rows\n",
            "\n"
          ]
        }
      ]
    },
    {
      "cell_type": "code",
      "source": [
        "df.printSchema()"
      ],
      "metadata": {
        "colab": {
          "base_uri": "https://localhost:8080/"
        },
        "id": "JoWGtXsFoWQy",
        "outputId": "c5ec24cf-1cfa-4310-c0a8-a2a5cef036d7"
      },
      "execution_count": 17,
      "outputs": [
        {
          "output_type": "stream",
          "name": "stdout",
          "text": [
            "root\n",
            " |-- AccountLength: integer (nullable = true)\n",
            " |-- VMailMessage: integer (nullable = true)\n",
            " |-- DayMins: double (nullable = true)\n",
            " |-- EveMins: double (nullable = true)\n",
            " |-- NightMins: double (nullable = true)\n",
            " |-- IntlMins: double (nullable = true)\n",
            " |-- CustServCalls: integer (nullable = true)\n",
            " |-- Churn: integer (nullable = true)\n",
            " |-- IntlPlan: integer (nullable = true)\n",
            " |-- VMailPlan: integer (nullable = true)\n",
            " |-- DayCalls: integer (nullable = true)\n",
            " |-- DayCharge: double (nullable = true)\n",
            " |-- EveCalls: integer (nullable = true)\n",
            " |-- EveCharge: double (nullable = true)\n",
            " |-- NightCalls: integer (nullable = true)\n",
            " |-- NightCharge: double (nullable = true)\n",
            " |-- IntlCalls: integer (nullable = true)\n",
            " |-- IntlCharge: double (nullable = true)\n",
            " |-- State: string (nullable = true)\n",
            " |-- AreaCode: integer (nullable = true)\n",
            " |-- Phone: string (nullable = true)\n",
            "\n"
          ]
        }
      ]
    },
    {
      "cell_type": "markdown",
      "source": [
        "# Data Pre-Processing"
      ],
      "metadata": {
        "id": "1U3cUTt7ot_A"
      }
    },
    {
      "cell_type": "code",
      "source": [
        "from pyspark.sql.functions import *\n",
        "\n",
        "df = df.withColumn(\"Churn\",col(\"Churn\").cast(StringType())) \\\n",
        ".withColumn(\"IntlPlan\",col(\"IntlPlan\").cast(StringType())) \\\n",
        ".withColumn(\"VmailPlan\",col(\"VmailPlan\").cast(StringType()))"
      ],
      "metadata": {
        "id": "eL6S6V3FozyQ"
      },
      "execution_count": 33,
      "outputs": []
    },
    {
      "cell_type": "code",
      "source": [
        "df.printSchema()"
      ],
      "metadata": {
        "colab": {
          "base_uri": "https://localhost:8080/"
        },
        "id": "_xXzJrlmo02U",
        "outputId": "2f797dab-4283-4c95-cdd5-284b23aa6fdf"
      },
      "execution_count": 34,
      "outputs": [
        {
          "output_type": "stream",
          "name": "stdout",
          "text": [
            "root\n",
            " |-- AccountLength: integer (nullable = true)\n",
            " |-- VMailMessage: integer (nullable = true)\n",
            " |-- DayMins: double (nullable = true)\n",
            " |-- EveMins: double (nullable = true)\n",
            " |-- NightMins: double (nullable = true)\n",
            " |-- IntlMins: double (nullable = true)\n",
            " |-- CustServCalls: integer (nullable = true)\n",
            " |-- Churn: string (nullable = true)\n",
            " |-- IntlPlan: string (nullable = true)\n",
            " |-- VmailPlan: string (nullable = true)\n",
            " |-- DayCalls: integer (nullable = true)\n",
            " |-- DayCharge: double (nullable = true)\n",
            " |-- EveCalls: integer (nullable = true)\n",
            " |-- EveCharge: double (nullable = true)\n",
            " |-- NightCalls: integer (nullable = true)\n",
            " |-- NightCharge: double (nullable = true)\n",
            " |-- IntlCalls: integer (nullable = true)\n",
            " |-- IntlCharge: double (nullable = true)\n",
            " |-- State: string (nullable = true)\n",
            " |-- AreaCode: integer (nullable = true)\n",
            " |-- Phone: string (nullable = true)\n",
            "\n"
          ]
        }
      ]
    },
    {
      "cell_type": "code",
      "source": [
        "df.summary().show()"
      ],
      "metadata": {
        "colab": {
          "base_uri": "https://localhost:8080/"
        },
        "id": "CuPuvB6yo03t",
        "outputId": "257a7cf7-6cd1-4031-a657-0611f92942fc"
      },
      "execution_count": 37,
      "outputs": [
        {
          "output_type": "stream",
          "name": "stdout",
          "text": [
            "+-------+------------------+------------------+------------------+------------------+------------------+------------------+------------------+-------------------+------------------+-------------------+------------------+------------------+------------------+------------------+------------------+-----------------+------------------+------------------+-----+------------------+--------+\n",
            "|summary|     AccountLength|      VMailMessage|           DayMins|           EveMins|         NightMins|          IntlMins|     CustServCalls|              Churn|          IntlPlan|          VmailPlan|          DayCalls|         DayCharge|          EveCalls|         EveCharge|        NightCalls|      NightCharge|         IntlCalls|        IntlCharge|State|          AreaCode|   Phone|\n",
            "+-------+------------------+------------------+------------------+------------------+------------------+------------------+------------------+-------------------+------------------+-------------------+------------------+------------------+------------------+------------------+------------------+-----------------+------------------+------------------+-----+------------------+--------+\n",
            "|  count|              3333|              3333|              3333|              3333|              3333|              3333|              3333|               3333|              3333|               3333|              3333|              3333|              3333|              3333|              3333|             3333|              3333|              3333| 3333|              3333|    3333|\n",
            "|   mean|101.06480648064806| 8.099009900990099|179.77509750975116|200.98034803480346|200.87203720372048|10.237293729372933|1.5628562856285628|0.14491449144914492|0.0969096909690969|0.27662766276627665|100.43564356435644|30.562307230723093|100.11431143114311|17.083540354035392|100.10771077107711|9.039324932493264|4.4794479447944795| 2.764581458145804| null|437.18241824182417|    null|\n",
            "| stddev|39.822105928595676|13.688365372038598| 54.46738920237146|50.713844425811985| 50.57384701365836| 2.791839548408416|1.3154910448664752|  0.352067423624126|0.2958791454844147| 0.4473978703800645|20.069084207300893| 9.259434553930495| 19.92262529394312| 4.310667643110347|19.568609346058544|2.275872837660027|2.4612142705460953|0.7537726126630451| null| 42.37129048560661|    null|\n",
            "|    min|                 1|                 0|               0.0|               0.0|              23.2|               0.0|                 0|                  0|                 0|                  0|                 0|               0.0|                 0|               0.0|                33|             1.04|                 0|               0.0|   AK|               408|327-1058|\n",
            "|    25%|                74|                 0|             143.7|             166.6|             167.0|               8.5|                 1|                0.0|               0.0|                0.0|                87|             24.43|                87|             14.16|                87|             7.52|                 3|               2.3| null|               408|    null|\n",
            "|    50%|               101|                 0|             179.4|             201.4|             201.2|              10.3|                 1|                0.0|               0.0|                0.0|               101|              30.5|               100|             17.12|               100|             9.05|                 4|              2.78| null|               415|    null|\n",
            "|    75%|               127|                20|             216.4|             235.3|             235.3|              12.1|                 2|                0.0|               0.0|                1.0|               114|             36.79|               114|              20.0|               113|            10.59|                 6|              3.27| null|               510|    null|\n",
            "|    max|               243|                51|             350.8|             363.7|             395.0|              20.0|                 9|                  1|                 1|                  1|               165|             59.64|               170|             30.91|               175|            17.77|                20|               5.4|   WY|               510|422-9964|\n",
            "+-------+------------------+------------------+------------------+------------------+------------------+------------------+------------------+-------------------+------------------+-------------------+------------------+------------------+------------------+------------------+------------------+-----------------+------------------+------------------+-----+------------------+--------+\n",
            "\n"
          ]
        }
      ]
    },
    {
      "cell_type": "code",
      "source": [
        "df.select('Churn','IntlPlan','VMailPlan').summary().show()"
      ],
      "metadata": {
        "colab": {
          "base_uri": "https://localhost:8080/"
        },
        "id": "TOkUXsYvo07X",
        "outputId": "5c032d3e-5c2c-4bf7-e538-f1a96ecdac6b"
      },
      "execution_count": 38,
      "outputs": [
        {
          "output_type": "stream",
          "name": "stdout",
          "text": [
            "+-------+-------------------+------------------+-------------------+\n",
            "|summary|              Churn|          IntlPlan|          VMailPlan|\n",
            "+-------+-------------------+------------------+-------------------+\n",
            "|  count|               3333|              3333|               3333|\n",
            "|   mean|0.14491449144914492|0.0969096909690969|0.27662766276627665|\n",
            "| stddev|  0.352067423624126|0.2958791454844147| 0.4473978703800645|\n",
            "|    min|                  0|                 0|                  0|\n",
            "|    25%|                0.0|               0.0|                0.0|\n",
            "|    50%|                0.0|               0.0|                0.0|\n",
            "|    75%|                0.0|               0.0|                1.0|\n",
            "|    max|                  1|                 1|                  1|\n",
            "+-------+-------------------+------------------+-------------------+\n",
            "\n"
          ]
        }
      ]
    },
    {
      "cell_type": "code",
      "source": [
        "df.show()"
      ],
      "metadata": {
        "colab": {
          "base_uri": "https://localhost:8080/"
        },
        "id": "U86OVWTOo0-Z",
        "outputId": "86bff13e-67f8-4ab2-e727-5ad7351a3eb7"
      },
      "execution_count": 42,
      "outputs": [
        {
          "output_type": "stream",
          "name": "stdout",
          "text": [
            "+-------------+------------+-------+-------+---------+--------+-------------+-----+--------+---------+--------+---------+--------+---------+----------+-----------+---------+----------+-----+--------+--------+\n",
            "|AccountLength|VMailMessage|DayMins|EveMins|NightMins|IntlMins|CustServCalls|Churn|IntlPlan|VmailPlan|DayCalls|DayCharge|EveCalls|EveCharge|NightCalls|NightCharge|IntlCalls|IntlCharge|State|AreaCode|   Phone|\n",
            "+-------------+------------+-------+-------+---------+--------+-------------+-----+--------+---------+--------+---------+--------+---------+----------+-----------+---------+----------+-----+--------+--------+\n",
            "|          128|          25|  265.1|  197.4|    244.7|    10.0|            1|    0|       0|        1|     110|    45.07|      99|    16.78|        91|      11.01|        3|       2.7|   KS|     415|382-4657|\n",
            "|          107|          26|  161.6|  195.5|    254.4|    13.7|            1|    0|       0|        1|     123|    27.47|     103|    16.62|       103|      11.45|        3|       3.7|   OH|     415|371-7191|\n",
            "|          137|           0|  243.4|  121.2|    162.6|    12.2|            0|    0|       0|        0|     114|    41.38|     110|     10.3|       104|       7.32|        5|      3.29|   NJ|     415|358-1921|\n",
            "|           84|           0|  299.4|   61.9|    196.9|     6.6|            2|    0|       1|        0|      71|     50.9|      88|     5.26|        89|       8.86|        7|      1.78|   OH|     408|375-9999|\n",
            "|           75|           0|  166.7|  148.3|    186.9|    10.1|            3|    0|       1|        0|     113|    28.34|     122|    12.61|       121|       8.41|        3|      2.73|   OK|     415|330-6626|\n",
            "|          118|           0|  223.4|  220.6|    203.9|     6.3|            0|    0|       1|        0|      98|    37.98|     101|    18.75|       118|       9.18|        6|       1.7|   AL|     510|391-8027|\n",
            "|          121|          24|  218.2|  348.5|    212.6|     7.5|            3|    0|       0|        1|      88|    37.09|     108|    29.62|       118|       9.57|        7|      2.03|   MA|     510|355-9993|\n",
            "|          147|           0|  157.0|  103.1|    211.8|     7.1|            0|    0|       1|        0|      79|    26.69|      94|     8.76|        96|       9.53|        6|      1.92|   MO|     415|329-9001|\n",
            "|          117|           0|  184.5|  351.6|    215.8|     8.7|            1|    0|       0|        0|      97|    31.37|      80|    29.89|        90|       9.71|        4|      2.35|   LA|     408|335-4719|\n",
            "|          141|          37|  258.6|  222.0|    326.4|    11.2|            0|    0|       1|        1|      84|    43.96|     111|    18.87|        97|      14.69|        5|      3.02|   WV|     415|330-8173|\n",
            "|           65|           0|  129.1|  228.5|    208.8|    12.7|            4|    1|       0|        0|     137|    21.95|      83|    19.42|       111|        9.4|        6|      3.43|   IN|     415|329-6603|\n",
            "|           74|           0|  187.7|  163.4|    196.0|     9.1|            0|    0|       0|        0|     127|    31.91|     148|    13.89|        94|       8.82|        5|      2.46|   RI|     415|344-9403|\n",
            "|          168|           0|  128.8|  104.9|    141.1|    11.2|            1|    0|       0|        0|      96|     21.9|      71|     8.92|       128|       6.35|        2|      3.02|   IA|     408|363-1107|\n",
            "|           95|           0|  156.6|  247.6|    192.3|    12.3|            3|    0|       0|        0|      88|    26.62|      75|    21.05|       115|       8.65|        5|      3.32|   MT|     510|394-8006|\n",
            "|           62|           0|  120.7|  307.2|    203.0|    13.1|            4|    0|       0|        0|      70|    20.52|      76|    26.11|        99|       9.14|        6|      3.54|   IA|     415|366-9238|\n",
            "|          161|           0|  332.9|  317.8|    160.6|     5.4|            4|    1|       0|        0|      67|    56.59|      97|    27.01|       128|       7.23|        9|      1.46|   NY|     415|351-7269|\n",
            "|           85|          27|  196.4|  280.9|     89.3|    13.8|            1|    0|       0|        1|     139|    33.39|      90|    23.88|        75|       4.02|        4|      3.73|   ID|     408|350-8884|\n",
            "|           93|           0|  190.7|  218.2|    129.6|     8.1|            3|    0|       0|        0|     114|    32.42|     111|    18.55|       121|       5.83|        3|      2.19|   VT|     510|386-2923|\n",
            "|           76|          33|  189.7|  212.8|    165.7|    10.0|            1|    0|       0|        1|      66|    32.25|      65|    18.09|       108|       7.46|        5|       2.7|   VA|     510|356-2992|\n",
            "|           73|           0|  224.4|  159.5|    192.8|    13.0|            1|    0|       0|        0|      90|    38.15|      88|    13.56|        74|       8.68|        2|      3.51|   TX|     415|373-2782|\n",
            "+-------------+------------+-------+-------+---------+--------+-------------+-----+--------+---------+--------+---------+--------+---------+----------+-----------+---------+----------+-----+--------+--------+\n",
            "only showing top 20 rows\n",
            "\n"
          ]
        }
      ]
    },
    {
      "cell_type": "markdown",
      "source": [
        "# Exploratory Data Analysis"
      ],
      "metadata": {
        "id": "oKuNLljwu4BS"
      }
    },
    {
      "cell_type": "code",
      "source": [
        "df1 = df.toPandas()\n",
        "df1.head()"
      ],
      "metadata": {
        "colab": {
          "base_uri": "https://localhost:8080/",
          "height": 386
        },
        "id": "hr8JZ3O8o1Cz",
        "outputId": "c21900dc-dc1b-4ea0-a623-fb981e1d0758"
      },
      "execution_count": 48,
      "outputs": [
        {
          "output_type": "execute_result",
          "data": {
            "text/plain": [
              "   AccountLength  VMailMessage  DayMins  EveMins  NightMins  IntlMins  \\\n",
              "0            128            25    265.1    197.4      244.7      10.0   \n",
              "1            107            26    161.6    195.5      254.4      13.7   \n",
              "2            137             0    243.4    121.2      162.6      12.2   \n",
              "3             84             0    299.4     61.9      196.9       6.6   \n",
              "4             75             0    166.7    148.3      186.9      10.1   \n",
              "\n",
              "   CustServCalls Churn IntlPlan VmailPlan  ...  DayCharge  EveCalls  \\\n",
              "0              1     0        0         1  ...      45.07        99   \n",
              "1              1     0        0         1  ...      27.47       103   \n",
              "2              0     0        0         0  ...      41.38       110   \n",
              "3              2     0        1         0  ...      50.90        88   \n",
              "4              3     0        1         0  ...      28.34       122   \n",
              "\n",
              "   EveCharge  NightCalls  NightCharge  IntlCalls  IntlCharge  State AreaCode  \\\n",
              "0      16.78          91        11.01          3        2.70     KS      415   \n",
              "1      16.62         103        11.45          3        3.70     OH      415   \n",
              "2      10.30         104         7.32          5        3.29     NJ      415   \n",
              "3       5.26          89         8.86          7        1.78     OH      408   \n",
              "4      12.61         121         8.41          3        2.73     OK      415   \n",
              "\n",
              "      Phone  \n",
              "0  382-4657  \n",
              "1  371-7191  \n",
              "2  358-1921  \n",
              "3  375-9999  \n",
              "4  330-6626  \n",
              "\n",
              "[5 rows x 21 columns]"
            ],
            "text/html": [
              "\n",
              "\n",
              "  <div id=\"df-8785eb30-9ef0-4aef-9a58-7a05f6ac1577\">\n",
              "    <div class=\"colab-df-container\">\n",
              "      <div>\n",
              "<style scoped>\n",
              "    .dataframe tbody tr th:only-of-type {\n",
              "        vertical-align: middle;\n",
              "    }\n",
              "\n",
              "    .dataframe tbody tr th {\n",
              "        vertical-align: top;\n",
              "    }\n",
              "\n",
              "    .dataframe thead th {\n",
              "        text-align: right;\n",
              "    }\n",
              "</style>\n",
              "<table border=\"1\" class=\"dataframe\">\n",
              "  <thead>\n",
              "    <tr style=\"text-align: right;\">\n",
              "      <th></th>\n",
              "      <th>AccountLength</th>\n",
              "      <th>VMailMessage</th>\n",
              "      <th>DayMins</th>\n",
              "      <th>EveMins</th>\n",
              "      <th>NightMins</th>\n",
              "      <th>IntlMins</th>\n",
              "      <th>CustServCalls</th>\n",
              "      <th>Churn</th>\n",
              "      <th>IntlPlan</th>\n",
              "      <th>VmailPlan</th>\n",
              "      <th>...</th>\n",
              "      <th>DayCharge</th>\n",
              "      <th>EveCalls</th>\n",
              "      <th>EveCharge</th>\n",
              "      <th>NightCalls</th>\n",
              "      <th>NightCharge</th>\n",
              "      <th>IntlCalls</th>\n",
              "      <th>IntlCharge</th>\n",
              "      <th>State</th>\n",
              "      <th>AreaCode</th>\n",
              "      <th>Phone</th>\n",
              "    </tr>\n",
              "  </thead>\n",
              "  <tbody>\n",
              "    <tr>\n",
              "      <th>0</th>\n",
              "      <td>128</td>\n",
              "      <td>25</td>\n",
              "      <td>265.1</td>\n",
              "      <td>197.4</td>\n",
              "      <td>244.7</td>\n",
              "      <td>10.0</td>\n",
              "      <td>1</td>\n",
              "      <td>0</td>\n",
              "      <td>0</td>\n",
              "      <td>1</td>\n",
              "      <td>...</td>\n",
              "      <td>45.07</td>\n",
              "      <td>99</td>\n",
              "      <td>16.78</td>\n",
              "      <td>91</td>\n",
              "      <td>11.01</td>\n",
              "      <td>3</td>\n",
              "      <td>2.70</td>\n",
              "      <td>KS</td>\n",
              "      <td>415</td>\n",
              "      <td>382-4657</td>\n",
              "    </tr>\n",
              "    <tr>\n",
              "      <th>1</th>\n",
              "      <td>107</td>\n",
              "      <td>26</td>\n",
              "      <td>161.6</td>\n",
              "      <td>195.5</td>\n",
              "      <td>254.4</td>\n",
              "      <td>13.7</td>\n",
              "      <td>1</td>\n",
              "      <td>0</td>\n",
              "      <td>0</td>\n",
              "      <td>1</td>\n",
              "      <td>...</td>\n",
              "      <td>27.47</td>\n",
              "      <td>103</td>\n",
              "      <td>16.62</td>\n",
              "      <td>103</td>\n",
              "      <td>11.45</td>\n",
              "      <td>3</td>\n",
              "      <td>3.70</td>\n",
              "      <td>OH</td>\n",
              "      <td>415</td>\n",
              "      <td>371-7191</td>\n",
              "    </tr>\n",
              "    <tr>\n",
              "      <th>2</th>\n",
              "      <td>137</td>\n",
              "      <td>0</td>\n",
              "      <td>243.4</td>\n",
              "      <td>121.2</td>\n",
              "      <td>162.6</td>\n",
              "      <td>12.2</td>\n",
              "      <td>0</td>\n",
              "      <td>0</td>\n",
              "      <td>0</td>\n",
              "      <td>0</td>\n",
              "      <td>...</td>\n",
              "      <td>41.38</td>\n",
              "      <td>110</td>\n",
              "      <td>10.30</td>\n",
              "      <td>104</td>\n",
              "      <td>7.32</td>\n",
              "      <td>5</td>\n",
              "      <td>3.29</td>\n",
              "      <td>NJ</td>\n",
              "      <td>415</td>\n",
              "      <td>358-1921</td>\n",
              "    </tr>\n",
              "    <tr>\n",
              "      <th>3</th>\n",
              "      <td>84</td>\n",
              "      <td>0</td>\n",
              "      <td>299.4</td>\n",
              "      <td>61.9</td>\n",
              "      <td>196.9</td>\n",
              "      <td>6.6</td>\n",
              "      <td>2</td>\n",
              "      <td>0</td>\n",
              "      <td>1</td>\n",
              "      <td>0</td>\n",
              "      <td>...</td>\n",
              "      <td>50.90</td>\n",
              "      <td>88</td>\n",
              "      <td>5.26</td>\n",
              "      <td>89</td>\n",
              "      <td>8.86</td>\n",
              "      <td>7</td>\n",
              "      <td>1.78</td>\n",
              "      <td>OH</td>\n",
              "      <td>408</td>\n",
              "      <td>375-9999</td>\n",
              "    </tr>\n",
              "    <tr>\n",
              "      <th>4</th>\n",
              "      <td>75</td>\n",
              "      <td>0</td>\n",
              "      <td>166.7</td>\n",
              "      <td>148.3</td>\n",
              "      <td>186.9</td>\n",
              "      <td>10.1</td>\n",
              "      <td>3</td>\n",
              "      <td>0</td>\n",
              "      <td>1</td>\n",
              "      <td>0</td>\n",
              "      <td>...</td>\n",
              "      <td>28.34</td>\n",
              "      <td>122</td>\n",
              "      <td>12.61</td>\n",
              "      <td>121</td>\n",
              "      <td>8.41</td>\n",
              "      <td>3</td>\n",
              "      <td>2.73</td>\n",
              "      <td>OK</td>\n",
              "      <td>415</td>\n",
              "      <td>330-6626</td>\n",
              "    </tr>\n",
              "  </tbody>\n",
              "</table>\n",
              "<p>5 rows × 21 columns</p>\n",
              "</div>\n",
              "      <button class=\"colab-df-convert\" onclick=\"convertToInteractive('df-8785eb30-9ef0-4aef-9a58-7a05f6ac1577')\"\n",
              "              title=\"Convert this dataframe to an interactive table.\"\n",
              "              style=\"display:none;\">\n",
              "\n",
              "  <svg xmlns=\"http://www.w3.org/2000/svg\" height=\"24px\"viewBox=\"0 0 24 24\"\n",
              "       width=\"24px\">\n",
              "    <path d=\"M0 0h24v24H0V0z\" fill=\"none\"/>\n",
              "    <path d=\"M18.56 5.44l.94 2.06.94-2.06 2.06-.94-2.06-.94-.94-2.06-.94 2.06-2.06.94zm-11 1L8.5 8.5l.94-2.06 2.06-.94-2.06-.94L8.5 2.5l-.94 2.06-2.06.94zm10 10l.94 2.06.94-2.06 2.06-.94-2.06-.94-.94-2.06-.94 2.06-2.06.94z\"/><path d=\"M17.41 7.96l-1.37-1.37c-.4-.4-.92-.59-1.43-.59-.52 0-1.04.2-1.43.59L10.3 9.45l-7.72 7.72c-.78.78-.78 2.05 0 2.83L4 21.41c.39.39.9.59 1.41.59.51 0 1.02-.2 1.41-.59l7.78-7.78 2.81-2.81c.8-.78.8-2.07 0-2.86zM5.41 20L4 18.59l7.72-7.72 1.47 1.35L5.41 20z\"/>\n",
              "  </svg>\n",
              "      </button>\n",
              "\n",
              "\n",
              "\n",
              "    <div id=\"df-3160fa66-e79e-4bbc-9600-7c1b6313fc8c\">\n",
              "      <button class=\"colab-df-quickchart\" onclick=\"quickchart('df-3160fa66-e79e-4bbc-9600-7c1b6313fc8c')\"\n",
              "              title=\"Suggest charts.\"\n",
              "              style=\"display:none;\">\n",
              "\n",
              "<svg xmlns=\"http://www.w3.org/2000/svg\" height=\"24px\"viewBox=\"0 0 24 24\"\n",
              "     width=\"24px\">\n",
              "    <g>\n",
              "        <path d=\"M19 3H5c-1.1 0-2 .9-2 2v14c0 1.1.9 2 2 2h14c1.1 0 2-.9 2-2V5c0-1.1-.9-2-2-2zM9 17H7v-7h2v7zm4 0h-2V7h2v10zm4 0h-2v-4h2v4z\"/>\n",
              "    </g>\n",
              "</svg>\n",
              "      </button>\n",
              "    </div>\n",
              "\n",
              "<style>\n",
              "  .colab-df-quickchart {\n",
              "    background-color: #E8F0FE;\n",
              "    border: none;\n",
              "    border-radius: 50%;\n",
              "    cursor: pointer;\n",
              "    display: none;\n",
              "    fill: #1967D2;\n",
              "    height: 32px;\n",
              "    padding: 0 0 0 0;\n",
              "    width: 32px;\n",
              "  }\n",
              "\n",
              "  .colab-df-quickchart:hover {\n",
              "    background-color: #E2EBFA;\n",
              "    box-shadow: 0px 1px 2px rgba(60, 64, 67, 0.3), 0px 1px 3px 1px rgba(60, 64, 67, 0.15);\n",
              "    fill: #174EA6;\n",
              "  }\n",
              "\n",
              "  [theme=dark] .colab-df-quickchart {\n",
              "    background-color: #3B4455;\n",
              "    fill: #D2E3FC;\n",
              "  }\n",
              "\n",
              "  [theme=dark] .colab-df-quickchart:hover {\n",
              "    background-color: #434B5C;\n",
              "    box-shadow: 0px 1px 3px 1px rgba(0, 0, 0, 0.15);\n",
              "    filter: drop-shadow(0px 1px 2px rgba(0, 0, 0, 0.3));\n",
              "    fill: #FFFFFF;\n",
              "  }\n",
              "</style>\n",
              "\n",
              "    <script>\n",
              "      async function quickchart(key) {\n",
              "        const containerElement = document.querySelector('#' + key);\n",
              "        const charts = await google.colab.kernel.invokeFunction(\n",
              "            'suggestCharts', [key], {});\n",
              "      }\n",
              "    </script>\n",
              "\n",
              "      <script>\n",
              "\n",
              "function displayQuickchartButton(domScope) {\n",
              "  let quickchartButtonEl =\n",
              "    domScope.querySelector('#df-3160fa66-e79e-4bbc-9600-7c1b6313fc8c button.colab-df-quickchart');\n",
              "  quickchartButtonEl.style.display =\n",
              "    google.colab.kernel.accessAllowed ? 'block' : 'none';\n",
              "}\n",
              "\n",
              "        displayQuickchartButton(document);\n",
              "      </script>\n",
              "      <style>\n",
              "    .colab-df-container {\n",
              "      display:flex;\n",
              "      flex-wrap:wrap;\n",
              "      gap: 12px;\n",
              "    }\n",
              "\n",
              "    .colab-df-convert {\n",
              "      background-color: #E8F0FE;\n",
              "      border: none;\n",
              "      border-radius: 50%;\n",
              "      cursor: pointer;\n",
              "      display: none;\n",
              "      fill: #1967D2;\n",
              "      height: 32px;\n",
              "      padding: 0 0 0 0;\n",
              "      width: 32px;\n",
              "    }\n",
              "\n",
              "    .colab-df-convert:hover {\n",
              "      background-color: #E2EBFA;\n",
              "      box-shadow: 0px 1px 2px rgba(60, 64, 67, 0.3), 0px 1px 3px 1px rgba(60, 64, 67, 0.15);\n",
              "      fill: #174EA6;\n",
              "    }\n",
              "\n",
              "    [theme=dark] .colab-df-convert {\n",
              "      background-color: #3B4455;\n",
              "      fill: #D2E3FC;\n",
              "    }\n",
              "\n",
              "    [theme=dark] .colab-df-convert:hover {\n",
              "      background-color: #434B5C;\n",
              "      box-shadow: 0px 1px 3px 1px rgba(0, 0, 0, 0.15);\n",
              "      filter: drop-shadow(0px 1px 2px rgba(0, 0, 0, 0.3));\n",
              "      fill: #FFFFFF;\n",
              "    }\n",
              "  </style>\n",
              "\n",
              "      <script>\n",
              "        const buttonEl =\n",
              "          document.querySelector('#df-8785eb30-9ef0-4aef-9a58-7a05f6ac1577 button.colab-df-convert');\n",
              "        buttonEl.style.display =\n",
              "          google.colab.kernel.accessAllowed ? 'block' : 'none';\n",
              "\n",
              "        async function convertToInteractive(key) {\n",
              "          const element = document.querySelector('#df-8785eb30-9ef0-4aef-9a58-7a05f6ac1577');\n",
              "          const dataTable =\n",
              "            await google.colab.kernel.invokeFunction('convertToInteractive',\n",
              "                                                     [key], {});\n",
              "          if (!dataTable) return;\n",
              "\n",
              "          const docLinkHtml = 'Like what you see? Visit the ' +\n",
              "            '<a target=\"_blank\" href=https://colab.research.google.com/notebooks/data_table.ipynb>data table notebook</a>'\n",
              "            + ' to learn more about interactive tables.';\n",
              "          element.innerHTML = '';\n",
              "          dataTable['output_type'] = 'display_data';\n",
              "          await google.colab.output.renderOutput(dataTable, element);\n",
              "          const docLink = document.createElement('div');\n",
              "          docLink.innerHTML = docLinkHtml;\n",
              "          element.appendChild(docLink);\n",
              "        }\n",
              "      </script>\n",
              "    </div>\n",
              "  </div>\n"
            ]
          },
          "metadata": {},
          "execution_count": 48
        }
      ]
    },
    {
      "cell_type": "code",
      "source": [],
      "metadata": {
        "id": "BT4zsqG9vRmq"
      },
      "execution_count": null,
      "outputs": []
    }
  ]
}